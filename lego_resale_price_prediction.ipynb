{
 "cells": [
  {
   "cell_type": "code",
   "execution_count": 1131,
   "metadata": {},
   "outputs": [],
   "source": [
    "import matplotlib.pyplot as plt\n",
    "import numpy as np\n",
    "import pandas as pd\n",
    "import seaborn as sns\n",
    "pd.options.mode.chained_assignment = None # to turn off the chained assignments"
   ]
  },
  {
   "cell_type": "markdown",
   "metadata": {},
   "source": [
    "_________________________________\n",
    "Import inventories dataframe"
   ]
  },
  {
   "cell_type": "code",
   "execution_count": 1132,
   "metadata": {},
   "outputs": [],
   "source": [
    "df_inventories = pd.concat(\n",
    "    map(pd.read_csv, ['data/lego_sets_2012.csv', 'data/lego_sets_2013.csv', 'data/lego_sets_2014.csv', 'data/lego_sets_2015.csv', 'data/lego_sets_2016.csv', 'data/lego_sets_2017.csv', 'data/lego_sets_2018.csv', 'data/lego_sets_2019.csv', 'data/lego_sets_2020.csv', 'data/lego_sets_2021.csv', 'data/lego_sets_2022.csv']), ignore_index= True)"
   ]
  },
  {
   "cell_type": "code",
   "execution_count": 1133,
   "metadata": {},
   "outputs": [
    {
     "data": {
      "text/html": [
       "<div>\n",
       "<style scoped>\n",
       "    .dataframe tbody tr th:only-of-type {\n",
       "        vertical-align: middle;\n",
       "    }\n",
       "\n",
       "    .dataframe tbody tr th {\n",
       "        vertical-align: top;\n",
       "    }\n",
       "\n",
       "    .dataframe thead th {\n",
       "        text-align: right;\n",
       "    }\n",
       "</style>\n",
       "<table border=\"1\" class=\"dataframe\">\n",
       "  <thead>\n",
       "    <tr style=\"text-align: right;\">\n",
       "      <th></th>\n",
       "      <th>Year</th>\n",
       "      <th>Minifigs</th>\n",
       "      <th>Pieces</th>\n",
       "      <th>RRP (GBP)</th>\n",
       "      <th>RRP (USD)</th>\n",
       "      <th>RRP (CAD)</th>\n",
       "      <th>RRP (EUR)</th>\n",
       "      <th>EAN</th>\n",
       "      <th>UPC</th>\n",
       "      <th>Width</th>\n",
       "      <th>...</th>\n",
       "      <th>Flag 1 not used</th>\n",
       "      <th>Flag 2 not used</th>\n",
       "      <th>Flag 3 not used</th>\n",
       "      <th>Flag 4 not used</th>\n",
       "      <th>Flag 5 not used</th>\n",
       "      <th>Flag 6 not used</th>\n",
       "      <th>Flag 7 not used</th>\n",
       "      <th>Flag 8 not used</th>\n",
       "      <th>Value new (USD)</th>\n",
       "      <th>Value used (USD)</th>\n",
       "    </tr>\n",
       "  </thead>\n",
       "  <tbody>\n",
       "    <tr>\n",
       "      <th>count</th>\n",
       "      <td>8960.000000</td>\n",
       "      <td>4380.000000</td>\n",
       "      <td>6623.000000</td>\n",
       "      <td>5518.000000</td>\n",
       "      <td>5978.000000</td>\n",
       "      <td>4959.000000</td>\n",
       "      <td>4311.000000</td>\n",
       "      <td>4.591000e+03</td>\n",
       "      <td>4.048000e+03</td>\n",
       "      <td>4999.000000</td>\n",
       "      <td>...</td>\n",
       "      <td>0.0</td>\n",
       "      <td>0.0</td>\n",
       "      <td>0.0</td>\n",
       "      <td>0.0</td>\n",
       "      <td>0.0</td>\n",
       "      <td>0.0</td>\n",
       "      <td>0.0</td>\n",
       "      <td>0.0</td>\n",
       "      <td>6223.000000</td>\n",
       "      <td>4863.000000</td>\n",
       "    </tr>\n",
       "    <tr>\n",
       "      <th>mean</th>\n",
       "      <td>2017.201897</td>\n",
       "      <td>2.711187</td>\n",
       "      <td>293.742111</td>\n",
       "      <td>31.808079</td>\n",
       "      <td>35.732753</td>\n",
       "      <td>50.414866</td>\n",
       "      <td>40.653957</td>\n",
       "      <td>5.570997e+12</td>\n",
       "      <td>6.733013e+11</td>\n",
       "      <td>26.001103</td>\n",
       "      <td>...</td>\n",
       "      <td>NaN</td>\n",
       "      <td>NaN</td>\n",
       "      <td>NaN</td>\n",
       "      <td>NaN</td>\n",
       "      <td>NaN</td>\n",
       "      <td>NaN</td>\n",
       "      <td>NaN</td>\n",
       "      <td>NaN</td>\n",
       "      <td>61.807138</td>\n",
       "      <td>35.659745</td>\n",
       "    </tr>\n",
       "    <tr>\n",
       "      <th>std</th>\n",
       "      <td>3.110600</td>\n",
       "      <td>2.777822</td>\n",
       "      <td>589.358683</td>\n",
       "      <td>47.871629</td>\n",
       "      <td>55.157096</td>\n",
       "      <td>70.917301</td>\n",
       "      <td>59.315827</td>\n",
       "      <td>8.015292e+11</td>\n",
       "      <td>1.716260e+10</td>\n",
       "      <td>13.951904</td>\n",
       "      <td>...</td>\n",
       "      <td>NaN</td>\n",
       "      <td>NaN</td>\n",
       "      <td>NaN</td>\n",
       "      <td>NaN</td>\n",
       "      <td>NaN</td>\n",
       "      <td>NaN</td>\n",
       "      <td>NaN</td>\n",
       "      <td>NaN</td>\n",
       "      <td>221.057426</td>\n",
       "      <td>65.366815</td>\n",
       "    </tr>\n",
       "    <tr>\n",
       "      <th>min</th>\n",
       "      <td>2012.000000</td>\n",
       "      <td>1.000000</td>\n",
       "      <td>0.000000</td>\n",
       "      <td>0.000000</td>\n",
       "      <td>0.000000</td>\n",
       "      <td>2.490000</td>\n",
       "      <td>0.010000</td>\n",
       "      <td>6.734191e+11</td>\n",
       "      <td>1.826580e+11</td>\n",
       "      <td>0.000000</td>\n",
       "      <td>...</td>\n",
       "      <td>NaN</td>\n",
       "      <td>NaN</td>\n",
       "      <td>NaN</td>\n",
       "      <td>NaN</td>\n",
       "      <td>NaN</td>\n",
       "      <td>NaN</td>\n",
       "      <td>NaN</td>\n",
       "      <td>NaN</td>\n",
       "      <td>1.050000</td>\n",
       "      <td>0.250000</td>\n",
       "    </tr>\n",
       "    <tr>\n",
       "      <th>25%</th>\n",
       "      <td>2015.000000</td>\n",
       "      <td>1.000000</td>\n",
       "      <td>29.000000</td>\n",
       "      <td>7.990000</td>\n",
       "      <td>8.230000</td>\n",
       "      <td>13.990000</td>\n",
       "      <td>9.990000</td>\n",
       "      <td>5.702015e+12</td>\n",
       "      <td>6.734192e+11</td>\n",
       "      <td>14.100000</td>\n",
       "      <td>...</td>\n",
       "      <td>NaN</td>\n",
       "      <td>NaN</td>\n",
       "      <td>NaN</td>\n",
       "      <td>NaN</td>\n",
       "      <td>NaN</td>\n",
       "      <td>NaN</td>\n",
       "      <td>NaN</td>\n",
       "      <td>NaN</td>\n",
       "      <td>7.495000</td>\n",
       "      <td>5.360000</td>\n",
       "    </tr>\n",
       "    <tr>\n",
       "      <th>50%</th>\n",
       "      <td>2017.000000</td>\n",
       "      <td>2.000000</td>\n",
       "      <td>96.000000</td>\n",
       "      <td>17.990000</td>\n",
       "      <td>19.990000</td>\n",
       "      <td>24.990000</td>\n",
       "      <td>19.990000</td>\n",
       "      <td>5.702016e+12</td>\n",
       "      <td>6.734193e+11</td>\n",
       "      <td>25.000000</td>\n",
       "      <td>...</td>\n",
       "      <td>NaN</td>\n",
       "      <td>NaN</td>\n",
       "      <td>NaN</td>\n",
       "      <td>NaN</td>\n",
       "      <td>NaN</td>\n",
       "      <td>NaN</td>\n",
       "      <td>NaN</td>\n",
       "      <td>NaN</td>\n",
       "      <td>22.640000</td>\n",
       "      <td>14.150000</td>\n",
       "    </tr>\n",
       "    <tr>\n",
       "      <th>75%</th>\n",
       "      <td>2020.000000</td>\n",
       "      <td>3.000000</td>\n",
       "      <td>316.500000</td>\n",
       "      <td>34.990000</td>\n",
       "      <td>39.990000</td>\n",
       "      <td>54.990000</td>\n",
       "      <td>49.990000</td>\n",
       "      <td>5.702017e+12</td>\n",
       "      <td>6.734193e+11</td>\n",
       "      <td>35.407600</td>\n",
       "      <td>...</td>\n",
       "      <td>NaN</td>\n",
       "      <td>NaN</td>\n",
       "      <td>NaN</td>\n",
       "      <td>NaN</td>\n",
       "      <td>NaN</td>\n",
       "      <td>NaN</td>\n",
       "      <td>NaN</td>\n",
       "      <td>NaN</td>\n",
       "      <td>57.110000</td>\n",
       "      <td>37.230000</td>\n",
       "    </tr>\n",
       "    <tr>\n",
       "      <th>max</th>\n",
       "      <td>2022.000000</td>\n",
       "      <td>32.000000</td>\n",
       "      <td>11695.000000</td>\n",
       "      <td>734.990000</td>\n",
       "      <td>849.990000</td>\n",
       "      <td>1049.990000</td>\n",
       "      <td>849.990000</td>\n",
       "      <td>9.788325e+12</td>\n",
       "      <td>8.839294e+11</td>\n",
       "      <td>116.000000</td>\n",
       "      <td>...</td>\n",
       "      <td>NaN</td>\n",
       "      <td>NaN</td>\n",
       "      <td>NaN</td>\n",
       "      <td>NaN</td>\n",
       "      <td>NaN</td>\n",
       "      <td>NaN</td>\n",
       "      <td>NaN</td>\n",
       "      <td>NaN</td>\n",
       "      <td>9000.000000</td>\n",
       "      <td>1329.050000</td>\n",
       "    </tr>\n",
       "  </tbody>\n",
       "</table>\n",
       "<p>8 rows × 30 columns</p>\n",
       "</div>"
      ],
      "text/plain": [
       "              Year     Minifigs        Pieces    RRP (GBP)    RRP (USD)  \\\n",
       "count  8960.000000  4380.000000   6623.000000  5518.000000  5978.000000   \n",
       "mean   2017.201897     2.711187    293.742111    31.808079    35.732753   \n",
       "std       3.110600     2.777822    589.358683    47.871629    55.157096   \n",
       "min    2012.000000     1.000000      0.000000     0.000000     0.000000   \n",
       "25%    2015.000000     1.000000     29.000000     7.990000     8.230000   \n",
       "50%    2017.000000     2.000000     96.000000    17.990000    19.990000   \n",
       "75%    2020.000000     3.000000    316.500000    34.990000    39.990000   \n",
       "max    2022.000000    32.000000  11695.000000   734.990000   849.990000   \n",
       "\n",
       "         RRP (CAD)    RRP (EUR)           EAN           UPC        Width  ...  \\\n",
       "count  4959.000000  4311.000000  4.591000e+03  4.048000e+03  4999.000000  ...   \n",
       "mean     50.414866    40.653957  5.570997e+12  6.733013e+11    26.001103  ...   \n",
       "std      70.917301    59.315827  8.015292e+11  1.716260e+10    13.951904  ...   \n",
       "min       2.490000     0.010000  6.734191e+11  1.826580e+11     0.000000  ...   \n",
       "25%      13.990000     9.990000  5.702015e+12  6.734192e+11    14.100000  ...   \n",
       "50%      24.990000    19.990000  5.702016e+12  6.734193e+11    25.000000  ...   \n",
       "75%      54.990000    49.990000  5.702017e+12  6.734193e+11    35.407600  ...   \n",
       "max    1049.990000   849.990000  9.788325e+12  8.839294e+11   116.000000  ...   \n",
       "\n",
       "       Flag 1 not used  Flag 2 not used  Flag 3 not used  Flag 4 not used  \\\n",
       "count              0.0              0.0              0.0              0.0   \n",
       "mean               NaN              NaN              NaN              NaN   \n",
       "std                NaN              NaN              NaN              NaN   \n",
       "min                NaN              NaN              NaN              NaN   \n",
       "25%                NaN              NaN              NaN              NaN   \n",
       "50%                NaN              NaN              NaN              NaN   \n",
       "75%                NaN              NaN              NaN              NaN   \n",
       "max                NaN              NaN              NaN              NaN   \n",
       "\n",
       "       Flag 5 not used  Flag 6 not used  Flag 7 not used  Flag 8 not used  \\\n",
       "count              0.0              0.0              0.0              0.0   \n",
       "mean               NaN              NaN              NaN              NaN   \n",
       "std                NaN              NaN              NaN              NaN   \n",
       "min                NaN              NaN              NaN              NaN   \n",
       "25%                NaN              NaN              NaN              NaN   \n",
       "50%                NaN              NaN              NaN              NaN   \n",
       "75%                NaN              NaN              NaN              NaN   \n",
       "max                NaN              NaN              NaN              NaN   \n",
       "\n",
       "       Value new (USD)  Value used (USD)  \n",
       "count      6223.000000       4863.000000  \n",
       "mean         61.807138         35.659745  \n",
       "std         221.057426         65.366815  \n",
       "min           1.050000          0.250000  \n",
       "25%           7.495000          5.360000  \n",
       "50%          22.640000         14.150000  \n",
       "75%          57.110000         37.230000  \n",
       "max        9000.000000       1329.050000  \n",
       "\n",
       "[8 rows x 30 columns]"
      ]
     },
     "execution_count": 1133,
     "metadata": {},
     "output_type": "execute_result"
    }
   ],
   "source": [
    "df_inventories.describe()"
   ]
  },
  {
   "cell_type": "markdown",
   "metadata": {},
   "source": [
    "Import scraped Ebay data dataframe"
   ]
  },
  {
   "cell_type": "code",
   "execution_count": 1134,
   "metadata": {},
   "outputs": [],
   "source": [
    "df_ebay = pd.read_csv('lego_ebay_sold_price.csv', parse_dates=True)"
   ]
  },
  {
   "cell_type": "code",
   "execution_count": 1135,
   "metadata": {},
   "outputs": [
    {
     "data": {
      "text/html": [
       "<div>\n",
       "<style scoped>\n",
       "    .dataframe tbody tr th:only-of-type {\n",
       "        vertical-align: middle;\n",
       "    }\n",
       "\n",
       "    .dataframe tbody tr th {\n",
       "        vertical-align: top;\n",
       "    }\n",
       "\n",
       "    .dataframe thead th {\n",
       "        text-align: right;\n",
       "    }\n",
       "</style>\n",
       "<table border=\"1\" class=\"dataframe\">\n",
       "  <thead>\n",
       "    <tr style=\"text-align: right;\">\n",
       "      <th></th>\n",
       "      <th>title</th>\n",
       "      <th>currency</th>\n",
       "      <th>sold_price</th>\n",
       "      <th>sold_date</th>\n",
       "    </tr>\n",
       "  </thead>\n",
       "  <tbody>\n",
       "    <tr>\n",
       "      <th>count</th>\n",
       "      <td>15663</td>\n",
       "      <td>15574</td>\n",
       "      <td>15574</td>\n",
       "      <td>15737</td>\n",
       "    </tr>\n",
       "    <tr>\n",
       "      <th>unique</th>\n",
       "      <td>10080</td>\n",
       "      <td>2</td>\n",
       "      <td>3070</td>\n",
       "      <td>9</td>\n",
       "    </tr>\n",
       "    <tr>\n",
       "      <th>top</th>\n",
       "      <td>title</td>\n",
       "      <td>£</td>\n",
       "      <td>sold_price</td>\n",
       "      <td>10 Sep 2022</td>\n",
       "    </tr>\n",
       "    <tr>\n",
       "      <th>freq</th>\n",
       "      <td>257</td>\n",
       "      <td>15317</td>\n",
       "      <td>257</td>\n",
       "      <td>2968</td>\n",
       "    </tr>\n",
       "  </tbody>\n",
       "</table>\n",
       "</div>"
      ],
      "text/plain": [
       "        title currency  sold_price    sold_date\n",
       "count   15663    15574       15574        15737\n",
       "unique  10080        2        3070            9\n",
       "top     title        £  sold_price  10 Sep 2022\n",
       "freq      257    15317         257         2968"
      ]
     },
     "execution_count": 1135,
     "metadata": {},
     "output_type": "execute_result"
    }
   ],
   "source": [
    "df_ebay.describe()"
   ]
  },
  {
   "cell_type": "markdown",
   "metadata": {},
   "source": [
    "___________________________________________________________________\n",
    "EDA\n",
    "\n",
    "CLEAN LEGO INVENTORIES DATA"
   ]
  },
  {
   "cell_type": "markdown",
   "metadata": {},
   "source": [
    "Remove unused columns and copy to new DataFrame"
   ]
  },
  {
   "cell_type": "code",
   "execution_count": 1136,
   "metadata": {},
   "outputs": [],
   "source": [
    "df_inventories_cleaned = df_inventories[['Number', 'Theme' , 'Minifigs', 'Pieces', 'RRP (GBP)', 'Launch date', 'Exit date']]"
   ]
  },
  {
   "cell_type": "code",
   "execution_count": 1137,
   "metadata": {},
   "outputs": [
    {
     "data": {
      "text/plain": [
       "Number            0\n",
       "Theme             0\n",
       "Minifigs       4580\n",
       "Pieces         2337\n",
       "RRP (GBP)      3442\n",
       "Launch date    4326\n",
       "Exit date      4326\n",
       "dtype: int64"
      ]
     },
     "execution_count": 1137,
     "metadata": {},
     "output_type": "execute_result"
    }
   ],
   "source": [
    "df_inventories_cleaned.isnull().sum()"
   ]
  },
  {
   "cell_type": "markdown",
   "metadata": {},
   "source": [
    "Any missing RRP will be not useful in this analysis"
   ]
  },
  {
   "cell_type": "markdown",
   "metadata": {},
   "source": [
    "So we drop them"
   ]
  },
  {
   "cell_type": "code",
   "execution_count": 1138,
   "metadata": {},
   "outputs": [],
   "source": [
    "df_inventories_cleaned = df_inventories_cleaned[~df_inventories_cleaned['RRP (GBP)'].isna()]"
   ]
  },
  {
   "cell_type": "markdown",
   "metadata": {},
   "source": [
    "We clean the set number to contain only the main code"
   ]
  },
  {
   "cell_type": "code",
   "execution_count": 1139,
   "metadata": {},
   "outputs": [],
   "source": [
    "df_inventories_cleaned['Number'] = df_inventories_cleaned['Number'].str.replace(r'-\\d+', '', regex=True)"
   ]
  },
  {
   "cell_type": "code",
   "execution_count": 1140,
   "metadata": {},
   "outputs": [
    {
     "data": {
      "text/html": [
       "<div>\n",
       "<style scoped>\n",
       "    .dataframe tbody tr th:only-of-type {\n",
       "        vertical-align: middle;\n",
       "    }\n",
       "\n",
       "    .dataframe tbody tr th {\n",
       "        vertical-align: top;\n",
       "    }\n",
       "\n",
       "    .dataframe thead th {\n",
       "        text-align: right;\n",
       "    }\n",
       "</style>\n",
       "<table border=\"1\" class=\"dataframe\">\n",
       "  <thead>\n",
       "    <tr style=\"text-align: right;\">\n",
       "      <th></th>\n",
       "      <th>Number</th>\n",
       "      <th>Theme</th>\n",
       "      <th>Minifigs</th>\n",
       "      <th>Pieces</th>\n",
       "      <th>RRP (GBP)</th>\n",
       "      <th>Launch date</th>\n",
       "      <th>Exit date</th>\n",
       "    </tr>\n",
       "  </thead>\n",
       "  <tbody>\n",
       "    <tr>\n",
       "      <th>0</th>\n",
       "      <td>3061</td>\n",
       "      <td>Friends</td>\n",
       "      <td>2.0</td>\n",
       "      <td>222.0</td>\n",
       "      <td>29.99</td>\n",
       "      <td>01/01/2012</td>\n",
       "      <td>31/12/2013</td>\n",
       "    </tr>\n",
       "    <tr>\n",
       "      <th>1</th>\n",
       "      <td>3063</td>\n",
       "      <td>Friends</td>\n",
       "      <td>1.0</td>\n",
       "      <td>195.0</td>\n",
       "      <td>19.99</td>\n",
       "      <td>01/06/2012</td>\n",
       "      <td>31/12/2013</td>\n",
       "    </tr>\n",
       "    <tr>\n",
       "      <th>2</th>\n",
       "      <td>3065</td>\n",
       "      <td>Friends</td>\n",
       "      <td>1.0</td>\n",
       "      <td>191.0</td>\n",
       "      <td>19.99</td>\n",
       "      <td>01/01/2012</td>\n",
       "      <td>31/12/2013</td>\n",
       "    </tr>\n",
       "    <tr>\n",
       "      <th>3</th>\n",
       "      <td>3183</td>\n",
       "      <td>Friends</td>\n",
       "      <td>1.0</td>\n",
       "      <td>130.0</td>\n",
       "      <td>14.99</td>\n",
       "      <td>01/01/2012</td>\n",
       "      <td>31/07/2013</td>\n",
       "    </tr>\n",
       "    <tr>\n",
       "      <th>4</th>\n",
       "      <td>3184</td>\n",
       "      <td>Friends</td>\n",
       "      <td>2.0</td>\n",
       "      <td>309.0</td>\n",
       "      <td>29.99</td>\n",
       "      <td>01/06/2012</td>\n",
       "      <td>31/12/2013</td>\n",
       "    </tr>\n",
       "  </tbody>\n",
       "</table>\n",
       "</div>"
      ],
      "text/plain": [
       "  Number    Theme  Minifigs  Pieces  RRP (GBP) Launch date   Exit date\n",
       "0   3061  Friends       2.0   222.0      29.99  01/01/2012  31/12/2013\n",
       "1   3063  Friends       1.0   195.0      19.99  01/06/2012  31/12/2013\n",
       "2   3065  Friends       1.0   191.0      19.99  01/01/2012  31/12/2013\n",
       "3   3183  Friends       1.0   130.0      14.99  01/01/2012  31/07/2013\n",
       "4   3184  Friends       2.0   309.0      29.99  01/06/2012  31/12/2013"
      ]
     },
     "execution_count": 1140,
     "metadata": {},
     "output_type": "execute_result"
    }
   ],
   "source": [
    "df_inventories_cleaned.head()"
   ]
  },
  {
   "cell_type": "markdown",
   "metadata": {},
   "source": [
    "********************************************\n",
    "CLEAN SCRAPED EBAY DATA\n",
    "\n",
    "Extract all numbers found in title into columns"
   ]
  },
  {
   "cell_type": "code",
   "execution_count": 1141,
   "metadata": {},
   "outputs": [],
   "source": [
    "\n",
    "# Extract all numbers in title to a list in a new DataFrame: normally LEGO's numbers code, number of pieces, set quantity, number of minifigures, etc.\n",
    "df_numbers = df_ebay['title'].str.findall('([0-9]+)').to_list()\n",
    "\n",
    "# Express all values in list to multi columns, each with one value.\n",
    "# As with LEGO sets, the number of pieces is usually smaller than the actual number code. Other number are significantly smaller than the pieces and number code.\n",
    "# Fill all nan value with 0, convert to int data type to find the max value\n",
    "\n",
    "# df_numbers = df_ebay.numbers.apply(pd.Series).fillna(0).astype(int).max(axis=1)\n",
    "df_numbers = pd.DataFrame([pd.Series(x, dtype = 'float') for x in df_numbers]).fillna(0).astype(int).max(axis=1) # Use this method to avoid the warning: 'The default dtype for empty Series will be 'object' instead of 'float64' in a future version warning'"
   ]
  },
  {
   "cell_type": "code",
   "execution_count": 1142,
   "metadata": {},
   "outputs": [],
   "source": [
    "df_ebay_cleaned = df_ebay[['title', 'currency','sold_price', 'sold_date']]"
   ]
  },
  {
   "cell_type": "code",
   "execution_count": 1143,
   "metadata": {},
   "outputs": [
    {
     "data": {
      "text/plain": [
       "title          74\n",
       "currency      163\n",
       "sold_price    163\n",
       "sold_date       0\n",
       "numbers         0\n",
       "dtype: int64"
      ]
     },
     "execution_count": 1143,
     "metadata": {},
     "output_type": "execute_result"
    }
   ],
   "source": [
    "# Update the column 'numbers' with the correct value\n",
    "df_ebay_cleaned.loc[:,'numbers'] = df_numbers\n",
    "# Check null values in the set\n",
    "df_ebay_cleaned.isnull().sum()"
   ]
  },
  {
   "cell_type": "code",
   "execution_count": 1144,
   "metadata": {},
   "outputs": [],
   "source": [
    "# Remove duplicates\n",
    "df_ebay_cleaned = df_ebay_cleaned.drop_duplicates()"
   ]
  },
  {
   "cell_type": "markdown",
   "metadata": {},
   "source": [
    "Remove Outlier\n",
    "\n",
    "Are those any invalid values: set number smaller than 999 and larger than 99999"
   ]
  },
  {
   "cell_type": "code",
   "execution_count": 1145,
   "metadata": {},
   "outputs": [
    {
     "data": {
      "text/plain": [
       "1796"
      ]
     },
     "execution_count": 1145,
     "metadata": {},
     "output_type": "execute_result"
    }
   ],
   "source": [
    "filter = ((df_ebay_cleaned['numbers'] < 999) | (df_ebay_cleaned['numbers'] > 99999))\n",
    "filter.sum()"
   ]
  },
  {
   "cell_type": "markdown",
   "metadata": {},
   "source": [
    "There are invalid values. We're going to drop them."
   ]
  },
  {
   "cell_type": "code",
   "execution_count": 1146,
   "metadata": {},
   "outputs": [],
   "source": [
    "# Take only row with a valid numbers: number set is from 999 to 99999. \n",
    "df_ebay_cleaned = df_ebay_cleaned[~filter]\n",
    "# Also we droped any row with sold_price is null\n",
    "df_ebay_cleaned = df_ebay_cleaned[df_ebay_cleaned['sold_price'].notnull()]"
   ]
  },
  {
   "cell_type": "code",
   "execution_count": 1147,
   "metadata": {},
   "outputs": [
    {
     "data": {
      "text/html": [
       "<div>\n",
       "<style scoped>\n",
       "    .dataframe tbody tr th:only-of-type {\n",
       "        vertical-align: middle;\n",
       "    }\n",
       "\n",
       "    .dataframe tbody tr th {\n",
       "        vertical-align: top;\n",
       "    }\n",
       "\n",
       "    .dataframe thead th {\n",
       "        text-align: right;\n",
       "    }\n",
       "</style>\n",
       "<table border=\"1\" class=\"dataframe\">\n",
       "  <thead>\n",
       "    <tr style=\"text-align: right;\">\n",
       "      <th></th>\n",
       "      <th>title</th>\n",
       "      <th>currency</th>\n",
       "      <th>sold_price</th>\n",
       "      <th>sold_date</th>\n",
       "      <th>numbers</th>\n",
       "    </tr>\n",
       "  </thead>\n",
       "  <tbody>\n",
       "    <tr>\n",
       "      <th>0</th>\n",
       "      <td>Lego STAR WARS MILLENNIUM FALCON BRAND NEW 135...</td>\n",
       "      <td>£</td>\n",
       "      <td>108.79</td>\n",
       "      <td>9 Sep 2022</td>\n",
       "      <td>75257</td>\n",
       "    </tr>\n",
       "    <tr>\n",
       "      <th>1</th>\n",
       "      <td>LEGO 40499 Santa's Sleigh (343 pcs) Brand New!...</td>\n",
       "      <td>£</td>\n",
       "      <td>67.73</td>\n",
       "      <td>9 Sep 2022</td>\n",
       "      <td>40499</td>\n",
       "    </tr>\n",
       "    <tr>\n",
       "      <th>2</th>\n",
       "      <td>LEGO 76208 Marvel Thor Love &amp; Thunder. The Goa...</td>\n",
       "      <td>£</td>\n",
       "      <td>37.49</td>\n",
       "      <td>9 Sep 2022</td>\n",
       "      <td>76208</td>\n",
       "    </tr>\n",
       "    <tr>\n",
       "      <th>3</th>\n",
       "      <td>LEGO City 60161 - Jungle Exploration Site - BR...</td>\n",
       "      <td>£</td>\n",
       "      <td>145.0</td>\n",
       "      <td>9 Sep 2022</td>\n",
       "      <td>60161</td>\n",
       "    </tr>\n",
       "    <tr>\n",
       "      <th>4</th>\n",
       "      <td>Lego 75299 Trouble on Tatooine new factory sea...</td>\n",
       "      <td>£</td>\n",
       "      <td>22.0</td>\n",
       "      <td>9 Sep 2022</td>\n",
       "      <td>75299</td>\n",
       "    </tr>\n",
       "  </tbody>\n",
       "</table>\n",
       "</div>"
      ],
      "text/plain": [
       "                                               title currency sold_price  \\\n",
       "0  Lego STAR WARS MILLENNIUM FALCON BRAND NEW 135...        £     108.79   \n",
       "1  LEGO 40499 Santa's Sleigh (343 pcs) Brand New!...        £      67.73   \n",
       "2  LEGO 76208 Marvel Thor Love & Thunder. The Goa...        £      37.49   \n",
       "3  LEGO City 60161 - Jungle Exploration Site - BR...        £      145.0   \n",
       "4  Lego 75299 Trouble on Tatooine new factory sea...        £       22.0   \n",
       "\n",
       "    sold_date  numbers  \n",
       "0  9 Sep 2022    75257  \n",
       "1  9 Sep 2022    40499  \n",
       "2  9 Sep 2022    76208  \n",
       "3  9 Sep 2022    60161  \n",
       "4  9 Sep 2022    75299  "
      ]
     },
     "execution_count": 1147,
     "metadata": {},
     "output_type": "execute_result"
    }
   ],
   "source": [
    "df_ebay_cleaned.head()"
   ]
  },
  {
   "cell_type": "markdown",
   "metadata": {},
   "source": [
    "***************************************************************************************************************************************************************\n"
   ]
  },
  {
   "cell_type": "markdown",
   "metadata": {},
   "source": [
    "Exploratory Data Analysis"
   ]
  },
  {
   "cell_type": "markdown",
   "metadata": {},
   "source": [
    "Top 20 sets sold on Ebay by frequency"
   ]
  },
  {
   "cell_type": "code",
   "execution_count": 1148,
   "metadata": {},
   "outputs": [
    {
     "data": {
      "text/html": [
       "<div>\n",
       "<style scoped>\n",
       "    .dataframe tbody tr th:only-of-type {\n",
       "        vertical-align: middle;\n",
       "    }\n",
       "\n",
       "    .dataframe tbody tr th {\n",
       "        vertical-align: top;\n",
       "    }\n",
       "\n",
       "    .dataframe thead th {\n",
       "        text-align: right;\n",
       "    }\n",
       "</style>\n",
       "<table border=\"1\" class=\"dataframe\">\n",
       "  <thead>\n",
       "    <tr style=\"text-align: right;\">\n",
       "      <th></th>\n",
       "      <th>set_numbers</th>\n",
       "      <th>frequency</th>\n",
       "    </tr>\n",
       "  </thead>\n",
       "  <tbody>\n",
       "    <tr>\n",
       "      <th>0</th>\n",
       "      <td>40515</td>\n",
       "      <td>80</td>\n",
       "    </tr>\n",
       "    <tr>\n",
       "      <th>1</th>\n",
       "      <td>40567</td>\n",
       "      <td>59</td>\n",
       "    </tr>\n",
       "    <tr>\n",
       "      <th>2</th>\n",
       "      <td>75267</td>\n",
       "      <td>51</td>\n",
       "    </tr>\n",
       "    <tr>\n",
       "      <th>3</th>\n",
       "      <td>71034</td>\n",
       "      <td>47</td>\n",
       "    </tr>\n",
       "    <tr>\n",
       "      <th>4</th>\n",
       "      <td>40530</td>\n",
       "      <td>46</td>\n",
       "    </tr>\n",
       "    <tr>\n",
       "      <th>5</th>\n",
       "      <td>71410</td>\n",
       "      <td>42</td>\n",
       "    </tr>\n",
       "    <tr>\n",
       "      <th>6</th>\n",
       "      <td>75342</td>\n",
       "      <td>34</td>\n",
       "    </tr>\n",
       "    <tr>\n",
       "      <th>7</th>\n",
       "      <td>71360</td>\n",
       "      <td>30</td>\n",
       "    </tr>\n",
       "    <tr>\n",
       "      <th>8</th>\n",
       "      <td>75290</td>\n",
       "      <td>30</td>\n",
       "    </tr>\n",
       "    <tr>\n",
       "      <th>9</th>\n",
       "      <td>71033</td>\n",
       "      <td>29</td>\n",
       "    </tr>\n",
       "    <tr>\n",
       "      <th>10</th>\n",
       "      <td>40410</td>\n",
       "      <td>28</td>\n",
       "    </tr>\n",
       "    <tr>\n",
       "      <th>11</th>\n",
       "      <td>75810</td>\n",
       "      <td>26</td>\n",
       "    </tr>\n",
       "    <tr>\n",
       "      <th>12</th>\n",
       "      <td>40549</td>\n",
       "      <td>25</td>\n",
       "    </tr>\n",
       "    <tr>\n",
       "      <th>13</th>\n",
       "      <td>76217</td>\n",
       "      <td>25</td>\n",
       "    </tr>\n",
       "    <tr>\n",
       "      <th>14</th>\n",
       "      <td>40533</td>\n",
       "      <td>23</td>\n",
       "    </tr>\n",
       "  </tbody>\n",
       "</table>\n",
       "</div>"
      ],
      "text/plain": [
       "    set_numbers  frequency\n",
       "0         40515         80\n",
       "1         40567         59\n",
       "2         75267         51\n",
       "3         71034         47\n",
       "4         40530         46\n",
       "5         71410         42\n",
       "6         75342         34\n",
       "7         71360         30\n",
       "8         75290         30\n",
       "9         71033         29\n",
       "10        40410         28\n",
       "11        75810         26\n",
       "12        40549         25\n",
       "13        76217         25\n",
       "14        40533         23"
      ]
     },
     "execution_count": 1148,
     "metadata": {},
     "output_type": "execute_result"
    }
   ],
   "source": [
    "top_sets = df_ebay_cleaned['numbers'].value_counts().to_frame().reset_index().head(15)\n",
    "top_sets.columns = ['set_numbers', 'frequency']\n",
    "top_sets"
   ]
  },
  {
   "cell_type": "code",
   "execution_count": 1149,
   "metadata": {},
   "outputs": [
    {
     "data": {
      "image/png": "[encoded data removed]",
      "text/plain": [
       "<Figure size 864x432 with 1 Axes>"
      ]
     },
     "metadata": {
      "needs_background": "light"
     },
     "output_type": "display_data"
    }
   ],
   "source": [
    "fig, ax = plt.subplots(figsize = (12,6))\n",
    "order_list = top_sets.sort_values('frequency', ascending=False).set_numbers\n",
    "ax = sns.barplot(x = 'set_numbers', y = 'frequency', data = top_sets, order=order_list)\n",
    "plt.title('Top 10 sets by number of sold on Ebay', size = 15)\n",
    "plt.xlabel('Set Numbers')\n",
    "plt.ylabel('Number of sold')\n",
    "plt.show()"
   ]
  },
  {
   "cell_type": "markdown",
   "metadata": {},
   "source": [
    "Take a deeper look at these sets specifically."
   ]
  },
  {
   "cell_type": "code",
   "execution_count": 1162,
   "metadata": {},
   "outputs": [
    {
     "data": {
      "image/png": "[encoded data removed]",
      "text/plain": [
       "<Figure size 1152x576 with 1 Axes>"
      ]
     },
     "metadata": {
      "needs_background": "light"
     },
     "output_type": "display_data"
    },
    {
     "data": {
      "image/png": "[encoded data removed]",
      "text/plain": [
       "<Figure size 360x360 with 1 Axes>"
      ]
     },
     "metadata": {
      "needs_background": "light"
     },
     "output_type": "display_data"
    }
   ],
   "source": [
    "# top_sets2 = df_ebay_cleaned[df_ebay_cleaned['numbers'].isin(top_sets['set_numbers'])]\n",
    "cols = {'sold_price':'mean', 'sold_price':'std'}\n",
    "# df_deep = df_ebay_cleaned[df_ebay_cleaned['numbers'].isin(top_sets['set_numbers'])].groupby('numbers', as_index=True).agg({'sold_price': ['mean','std', 'count']})\n",
    "df_deep = df_ebay_cleaned[df_ebay_cleaned['numbers'].isin(top_sets['set_numbers'])]\n",
    "fig2 = plt.subplots(figsize = (16,8))\n",
    "sns.catplot(data=df_deep, kind='box', x='numbers', y='sold_price')\n",
    "plt.show()"
   ]
  },
  {
   "cell_type": "markdown",
   "metadata": {},
   "source": [
    "Convert sold price to float"
   ]
  },
  {
   "cell_type": "code",
   "execution_count": 1151,
   "metadata": {},
   "outputs": [],
   "source": [
    "df_ebay_cleaned['sold_price'] = df_ebay_cleaned['sold_price'].astype(float)"
   ]
  },
  {
   "cell_type": "markdown",
   "metadata": {},
   "source": [
    "Find unique product code in the scraped database"
   ]
  },
  {
   "cell_type": "code",
   "execution_count": 1152,
   "metadata": {},
   "outputs": [
    {
     "data": {
      "text/plain": [
       "3242"
      ]
     },
     "execution_count": 1152,
     "metadata": {},
     "output_type": "execute_result"
    }
   ],
   "source": [
    "df_ebay_cleaned['numbers'].nunique()"
   ]
  },
  {
   "cell_type": "code",
   "execution_count": 1153,
   "metadata": {},
   "outputs": [
    {
     "data": {
      "text/html": [
       "<div>\n",
       "<style scoped>\n",
       "    .dataframe tbody tr th:only-of-type {\n",
       "        vertical-align: middle;\n",
       "    }\n",
       "\n",
       "    .dataframe tbody tr th {\n",
       "        vertical-align: top;\n",
       "    }\n",
       "\n",
       "    .dataframe thead th {\n",
       "        text-align: right;\n",
       "    }\n",
       "</style>\n",
       "<table border=\"1\" class=\"dataframe\">\n",
       "  <thead>\n",
       "    <tr style=\"text-align: right;\">\n",
       "      <th></th>\n",
       "      <th>sold_price</th>\n",
       "    </tr>\n",
       "    <tr>\n",
       "      <th>numbers</th>\n",
       "      <th></th>\n",
       "    </tr>\n",
       "  </thead>\n",
       "  <tbody>\n",
       "    <tr>\n",
       "      <th>1017</th>\n",
       "      <td>2.420</td>\n",
       "    </tr>\n",
       "    <tr>\n",
       "      <th>1050</th>\n",
       "      <td>1.310</td>\n",
       "    </tr>\n",
       "    <tr>\n",
       "      <th>1051</th>\n",
       "      <td>4.330</td>\n",
       "    </tr>\n",
       "    <tr>\n",
       "      <th>1075</th>\n",
       "      <td>1.310</td>\n",
       "    </tr>\n",
       "    <tr>\n",
       "      <th>1078</th>\n",
       "      <td>4.240</td>\n",
       "    </tr>\n",
       "    <tr>\n",
       "      <th>...</th>\n",
       "      <td>...</td>\n",
       "    </tr>\n",
       "    <tr>\n",
       "      <th>98282</th>\n",
       "      <td>1.560</td>\n",
       "    </tr>\n",
       "    <tr>\n",
       "      <th>98283</th>\n",
       "      <td>8.140</td>\n",
       "    </tr>\n",
       "    <tr>\n",
       "      <th>99563</th>\n",
       "      <td>1.945</td>\n",
       "    </tr>\n",
       "    <tr>\n",
       "      <th>99780</th>\n",
       "      <td>1.260</td>\n",
       "    </tr>\n",
       "    <tr>\n",
       "      <th>99781</th>\n",
       "      <td>2.390</td>\n",
       "    </tr>\n",
       "  </tbody>\n",
       "</table>\n",
       "<p>3242 rows × 1 columns</p>\n",
       "</div>"
      ],
      "text/plain": [
       "         sold_price\n",
       "numbers            \n",
       "1017          2.420\n",
       "1050          1.310\n",
       "1051          4.330\n",
       "1075          1.310\n",
       "1078          4.240\n",
       "...             ...\n",
       "98282         1.560\n",
       "98283         8.140\n",
       "99563         1.945\n",
       "99780         1.260\n",
       "99781         2.390\n",
       "\n",
       "[3242 rows x 1 columns]"
      ]
     },
     "execution_count": 1153,
     "metadata": {},
     "output_type": "execute_result"
    }
   ],
   "source": [
    "df_ebay_cleaned.groupby('numbers').mean()"
   ]
  },
  {
   "cell_type": "code",
   "execution_count": 1154,
   "metadata": {},
   "outputs": [
    {
     "data": {
      "text/plain": [
       "numbers\n",
       "1017     1\n",
       "1050     1\n",
       "1051     1\n",
       "1075     2\n",
       "1078     2\n",
       "        ..\n",
       "98282    1\n",
       "98283    5\n",
       "99563    2\n",
       "99780    1\n",
       "99781    1\n",
       "Length: 3242, dtype: int64"
      ]
     },
     "execution_count": 1154,
     "metadata": {},
     "output_type": "execute_result"
    }
   ],
   "source": [
    "df_ebay_cleaned.groupby('numbers').size()\n",
    "# df_ebay.value_counts(['numbers'])\n",
    "# need to check how to count rows in one group"
   ]
  }
 ],
 "metadata": {
  "kernelspec": {
   "display_name": "Python 3.9.12 ('base')",
   "language": "python",
   "name": "python3"
  },
  "language_info": {
   "codemirror_mode": {
    "name": "ipython",
    "version": 3
   },
   "file_extension": ".py",
   "mimetype": "text/x-python",
   "name": "python",
   "nbconvert_exporter": "python",
   "pygments_lexer": "ipython3",
   "version": "3.9.12"
  },
  "orig_nbformat": 4,
  "vscode": {
   "interpreter": {
    "hash": "666293bfe8538e1eac8d8128c15a5a889f50ac4a959923ef4a4d41560ee4f3ec"
   }
  }
 },
 "nbformat": 4,
 "nbformat_minor": 2
}
