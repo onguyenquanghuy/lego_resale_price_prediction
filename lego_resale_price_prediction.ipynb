{
 "cells": [
  {
   "cell_type": "code",
   "execution_count": 636,
   "metadata": {},
   "outputs": [],
   "source": [
    "import matplotlib.pyplot as plt\n",
    "import numpy as np\n",
    "import pandas as pd\n",
    "import seaborn as sns\n",
    "pd.options.mode.chained_assignment = None # to turn off the chained assignments"
   ]
  },
  {
   "cell_type": "markdown",
   "metadata": {},
   "source": [
    "_________________________________\n",
    "Import inventories dataframe"
   ]
  },
  {
   "cell_type": "code",
   "execution_count": 637,
   "metadata": {},
   "outputs": [],
   "source": [
    "df_inventories = pd.concat(\n",
    "    map(pd.read_csv, ['data/lego_sets_2012.csv', 'data/lego_sets_2013.csv', 'data/lego_sets_2014.csv', 'data/lego_sets_2015.csv', 'data/lego_sets_2016.csv', 'data/lego_sets_2017.csv', 'data/lego_sets_2018.csv', 'data/lego_sets_2019.csv', 'data/lego_sets_2020.csv', 'data/lego_sets_2021.csv', 'data/lego_sets_2022.csv']), ignore_index= True)"
   ]
  },
  {
   "cell_type": "code",
   "execution_count": 638,
   "metadata": {},
   "outputs": [
    {
     "data": {
      "text/html": [
       "<div>\n",
       "<style scoped>\n",
       "    .dataframe tbody tr th:only-of-type {\n",
       "        vertical-align: middle;\n",
       "    }\n",
       "\n",
       "    .dataframe tbody tr th {\n",
       "        vertical-align: top;\n",
       "    }\n",
       "\n",
       "    .dataframe thead th {\n",
       "        text-align: right;\n",
       "    }\n",
       "</style>\n",
       "<table border=\"1\" class=\"dataframe\">\n",
       "  <thead>\n",
       "    <tr style=\"text-align: right;\">\n",
       "      <th></th>\n",
       "      <th>Year</th>\n",
       "      <th>Minifigs</th>\n",
       "      <th>Pieces</th>\n",
       "      <th>RRP (GBP)</th>\n",
       "      <th>RRP (USD)</th>\n",
       "      <th>RRP (CAD)</th>\n",
       "      <th>RRP (EUR)</th>\n",
       "      <th>EAN</th>\n",
       "      <th>UPC</th>\n",
       "      <th>Width</th>\n",
       "      <th>...</th>\n",
       "      <th>Flag 1 not used</th>\n",
       "      <th>Flag 2 not used</th>\n",
       "      <th>Flag 3 not used</th>\n",
       "      <th>Flag 4 not used</th>\n",
       "      <th>Flag 5 not used</th>\n",
       "      <th>Flag 6 not used</th>\n",
       "      <th>Flag 7 not used</th>\n",
       "      <th>Flag 8 not used</th>\n",
       "      <th>Value new (USD)</th>\n",
       "      <th>Value used (USD)</th>\n",
       "    </tr>\n",
       "  </thead>\n",
       "  <tbody>\n",
       "    <tr>\n",
       "      <th>count</th>\n",
       "      <td>8960.000000</td>\n",
       "      <td>4380.000000</td>\n",
       "      <td>6623.000000</td>\n",
       "      <td>5518.000000</td>\n",
       "      <td>5978.000000</td>\n",
       "      <td>4959.000000</td>\n",
       "      <td>4311.000000</td>\n",
       "      <td>4.591000e+03</td>\n",
       "      <td>4.048000e+03</td>\n",
       "      <td>4999.000000</td>\n",
       "      <td>...</td>\n",
       "      <td>0.0</td>\n",
       "      <td>0.0</td>\n",
       "      <td>0.0</td>\n",
       "      <td>0.0</td>\n",
       "      <td>0.0</td>\n",
       "      <td>0.0</td>\n",
       "      <td>0.0</td>\n",
       "      <td>0.0</td>\n",
       "      <td>6223.000000</td>\n",
       "      <td>4863.000000</td>\n",
       "    </tr>\n",
       "    <tr>\n",
       "      <th>mean</th>\n",
       "      <td>2017.201897</td>\n",
       "      <td>2.711187</td>\n",
       "      <td>293.742111</td>\n",
       "      <td>31.808079</td>\n",
       "      <td>35.732753</td>\n",
       "      <td>50.414866</td>\n",
       "      <td>40.653957</td>\n",
       "      <td>5.570997e+12</td>\n",
       "      <td>6.733013e+11</td>\n",
       "      <td>26.001103</td>\n",
       "      <td>...</td>\n",
       "      <td>NaN</td>\n",
       "      <td>NaN</td>\n",
       "      <td>NaN</td>\n",
       "      <td>NaN</td>\n",
       "      <td>NaN</td>\n",
       "      <td>NaN</td>\n",
       "      <td>NaN</td>\n",
       "      <td>NaN</td>\n",
       "      <td>61.807138</td>\n",
       "      <td>35.659745</td>\n",
       "    </tr>\n",
       "    <tr>\n",
       "      <th>std</th>\n",
       "      <td>3.110600</td>\n",
       "      <td>2.777822</td>\n",
       "      <td>589.358683</td>\n",
       "      <td>47.871629</td>\n",
       "      <td>55.157096</td>\n",
       "      <td>70.917301</td>\n",
       "      <td>59.315827</td>\n",
       "      <td>8.015292e+11</td>\n",
       "      <td>1.716260e+10</td>\n",
       "      <td>13.951904</td>\n",
       "      <td>...</td>\n",
       "      <td>NaN</td>\n",
       "      <td>NaN</td>\n",
       "      <td>NaN</td>\n",
       "      <td>NaN</td>\n",
       "      <td>NaN</td>\n",
       "      <td>NaN</td>\n",
       "      <td>NaN</td>\n",
       "      <td>NaN</td>\n",
       "      <td>221.057426</td>\n",
       "      <td>65.366815</td>\n",
       "    </tr>\n",
       "    <tr>\n",
       "      <th>min</th>\n",
       "      <td>2012.000000</td>\n",
       "      <td>1.000000</td>\n",
       "      <td>0.000000</td>\n",
       "      <td>0.000000</td>\n",
       "      <td>0.000000</td>\n",
       "      <td>2.490000</td>\n",
       "      <td>0.010000</td>\n",
       "      <td>6.734191e+11</td>\n",
       "      <td>1.826580e+11</td>\n",
       "      <td>0.000000</td>\n",
       "      <td>...</td>\n",
       "      <td>NaN</td>\n",
       "      <td>NaN</td>\n",
       "      <td>NaN</td>\n",
       "      <td>NaN</td>\n",
       "      <td>NaN</td>\n",
       "      <td>NaN</td>\n",
       "      <td>NaN</td>\n",
       "      <td>NaN</td>\n",
       "      <td>1.050000</td>\n",
       "      <td>0.250000</td>\n",
       "    </tr>\n",
       "    <tr>\n",
       "      <th>25%</th>\n",
       "      <td>2015.000000</td>\n",
       "      <td>1.000000</td>\n",
       "      <td>29.000000</td>\n",
       "      <td>7.990000</td>\n",
       "      <td>8.230000</td>\n",
       "      <td>13.990000</td>\n",
       "      <td>9.990000</td>\n",
       "      <td>5.702015e+12</td>\n",
       "      <td>6.734192e+11</td>\n",
       "      <td>14.100000</td>\n",
       "      <td>...</td>\n",
       "      <td>NaN</td>\n",
       "      <td>NaN</td>\n",
       "      <td>NaN</td>\n",
       "      <td>NaN</td>\n",
       "      <td>NaN</td>\n",
       "      <td>NaN</td>\n",
       "      <td>NaN</td>\n",
       "      <td>NaN</td>\n",
       "      <td>7.495000</td>\n",
       "      <td>5.360000</td>\n",
       "    </tr>\n",
       "    <tr>\n",
       "      <th>50%</th>\n",
       "      <td>2017.000000</td>\n",
       "      <td>2.000000</td>\n",
       "      <td>96.000000</td>\n",
       "      <td>17.990000</td>\n",
       "      <td>19.990000</td>\n",
       "      <td>24.990000</td>\n",
       "      <td>19.990000</td>\n",
       "      <td>5.702016e+12</td>\n",
       "      <td>6.734193e+11</td>\n",
       "      <td>25.000000</td>\n",
       "      <td>...</td>\n",
       "      <td>NaN</td>\n",
       "      <td>NaN</td>\n",
       "      <td>NaN</td>\n",
       "      <td>NaN</td>\n",
       "      <td>NaN</td>\n",
       "      <td>NaN</td>\n",
       "      <td>NaN</td>\n",
       "      <td>NaN</td>\n",
       "      <td>22.640000</td>\n",
       "      <td>14.150000</td>\n",
       "    </tr>\n",
       "    <tr>\n",
       "      <th>75%</th>\n",
       "      <td>2020.000000</td>\n",
       "      <td>3.000000</td>\n",
       "      <td>316.500000</td>\n",
       "      <td>34.990000</td>\n",
       "      <td>39.990000</td>\n",
       "      <td>54.990000</td>\n",
       "      <td>49.990000</td>\n",
       "      <td>5.702017e+12</td>\n",
       "      <td>6.734193e+11</td>\n",
       "      <td>35.407600</td>\n",
       "      <td>...</td>\n",
       "      <td>NaN</td>\n",
       "      <td>NaN</td>\n",
       "      <td>NaN</td>\n",
       "      <td>NaN</td>\n",
       "      <td>NaN</td>\n",
       "      <td>NaN</td>\n",
       "      <td>NaN</td>\n",
       "      <td>NaN</td>\n",
       "      <td>57.110000</td>\n",
       "      <td>37.230000</td>\n",
       "    </tr>\n",
       "    <tr>\n",
       "      <th>max</th>\n",
       "      <td>2022.000000</td>\n",
       "      <td>32.000000</td>\n",
       "      <td>11695.000000</td>\n",
       "      <td>734.990000</td>\n",
       "      <td>849.990000</td>\n",
       "      <td>1049.990000</td>\n",
       "      <td>849.990000</td>\n",
       "      <td>9.788325e+12</td>\n",
       "      <td>8.839294e+11</td>\n",
       "      <td>116.000000</td>\n",
       "      <td>...</td>\n",
       "      <td>NaN</td>\n",
       "      <td>NaN</td>\n",
       "      <td>NaN</td>\n",
       "      <td>NaN</td>\n",
       "      <td>NaN</td>\n",
       "      <td>NaN</td>\n",
       "      <td>NaN</td>\n",
       "      <td>NaN</td>\n",
       "      <td>9000.000000</td>\n",
       "      <td>1329.050000</td>\n",
       "    </tr>\n",
       "  </tbody>\n",
       "</table>\n",
       "<p>8 rows × 30 columns</p>\n",
       "</div>"
      ],
      "text/plain": [
       "              Year     Minifigs        Pieces    RRP (GBP)    RRP (USD)  \\\n",
       "count  8960.000000  4380.000000   6623.000000  5518.000000  5978.000000   \n",
       "mean   2017.201897     2.711187    293.742111    31.808079    35.732753   \n",
       "std       3.110600     2.777822    589.358683    47.871629    55.157096   \n",
       "min    2012.000000     1.000000      0.000000     0.000000     0.000000   \n",
       "25%    2015.000000     1.000000     29.000000     7.990000     8.230000   \n",
       "50%    2017.000000     2.000000     96.000000    17.990000    19.990000   \n",
       "75%    2020.000000     3.000000    316.500000    34.990000    39.990000   \n",
       "max    2022.000000    32.000000  11695.000000   734.990000   849.990000   \n",
       "\n",
       "         RRP (CAD)    RRP (EUR)           EAN           UPC        Width  ...  \\\n",
       "count  4959.000000  4311.000000  4.591000e+03  4.048000e+03  4999.000000  ...   \n",
       "mean     50.414866    40.653957  5.570997e+12  6.733013e+11    26.001103  ...   \n",
       "std      70.917301    59.315827  8.015292e+11  1.716260e+10    13.951904  ...   \n",
       "min       2.490000     0.010000  6.734191e+11  1.826580e+11     0.000000  ...   \n",
       "25%      13.990000     9.990000  5.702015e+12  6.734192e+11    14.100000  ...   \n",
       "50%      24.990000    19.990000  5.702016e+12  6.734193e+11    25.000000  ...   \n",
       "75%      54.990000    49.990000  5.702017e+12  6.734193e+11    35.407600  ...   \n",
       "max    1049.990000   849.990000  9.788325e+12  8.839294e+11   116.000000  ...   \n",
       "\n",
       "       Flag 1 not used  Flag 2 not used  Flag 3 not used  Flag 4 not used  \\\n",
       "count              0.0              0.0              0.0              0.0   \n",
       "mean               NaN              NaN              NaN              NaN   \n",
       "std                NaN              NaN              NaN              NaN   \n",
       "min                NaN              NaN              NaN              NaN   \n",
       "25%                NaN              NaN              NaN              NaN   \n",
       "50%                NaN              NaN              NaN              NaN   \n",
       "75%                NaN              NaN              NaN              NaN   \n",
       "max                NaN              NaN              NaN              NaN   \n",
       "\n",
       "       Flag 5 not used  Flag 6 not used  Flag 7 not used  Flag 8 not used  \\\n",
       "count              0.0              0.0              0.0              0.0   \n",
       "mean               NaN              NaN              NaN              NaN   \n",
       "std                NaN              NaN              NaN              NaN   \n",
       "min                NaN              NaN              NaN              NaN   \n",
       "25%                NaN              NaN              NaN              NaN   \n",
       "50%                NaN              NaN              NaN              NaN   \n",
       "75%                NaN              NaN              NaN              NaN   \n",
       "max                NaN              NaN              NaN              NaN   \n",
       "\n",
       "       Value new (USD)  Value used (USD)  \n",
       "count      6223.000000       4863.000000  \n",
       "mean         61.807138         35.659745  \n",
       "std         221.057426         65.366815  \n",
       "min           1.050000          0.250000  \n",
       "25%           7.495000          5.360000  \n",
       "50%          22.640000         14.150000  \n",
       "75%          57.110000         37.230000  \n",
       "max        9000.000000       1329.050000  \n",
       "\n",
       "[8 rows x 30 columns]"
      ]
     },
     "execution_count": 638,
     "metadata": {},
     "output_type": "execute_result"
    }
   ],
   "source": [
    "df_inventories.describe()"
   ]
  },
  {
   "cell_type": "markdown",
   "metadata": {},
   "source": [
    "Import scraped Ebay data dataframe"
   ]
  },
  {
   "cell_type": "code",
   "execution_count": 639,
   "metadata": {},
   "outputs": [],
   "source": [
    "df_ebay = pd.read_csv('lego_ebay_sold_price.csv', parse_dates=True)"
   ]
  },
  {
   "cell_type": "code",
   "execution_count": 640,
   "metadata": {},
   "outputs": [
    {
     "data": {
      "text/html": [
       "<div>\n",
       "<style scoped>\n",
       "    .dataframe tbody tr th:only-of-type {\n",
       "        vertical-align: middle;\n",
       "    }\n",
       "\n",
       "    .dataframe tbody tr th {\n",
       "        vertical-align: top;\n",
       "    }\n",
       "\n",
       "    .dataframe thead th {\n",
       "        text-align: right;\n",
       "    }\n",
       "</style>\n",
       "<table border=\"1\" class=\"dataframe\">\n",
       "  <thead>\n",
       "    <tr style=\"text-align: right;\">\n",
       "      <th></th>\n",
       "      <th>title</th>\n",
       "      <th>currency</th>\n",
       "      <th>sold_price</th>\n",
       "      <th>sold_date</th>\n",
       "    </tr>\n",
       "  </thead>\n",
       "  <tbody>\n",
       "    <tr>\n",
       "      <th>count</th>\n",
       "      <td>22347</td>\n",
       "      <td>22226</td>\n",
       "      <td>22226</td>\n",
       "      <td>22447</td>\n",
       "    </tr>\n",
       "    <tr>\n",
       "      <th>unique</th>\n",
       "      <td>13139</td>\n",
       "      <td>2</td>\n",
       "      <td>3894</td>\n",
       "      <td>12</td>\n",
       "    </tr>\n",
       "    <tr>\n",
       "      <th>top</th>\n",
       "      <td>title</td>\n",
       "      <td>£</td>\n",
       "      <td>sold_price</td>\n",
       "      <td>11 Sep 2022</td>\n",
       "    </tr>\n",
       "    <tr>\n",
       "      <th>freq</th>\n",
       "      <td>367</td>\n",
       "      <td>21859</td>\n",
       "      <td>367</td>\n",
       "      <td>3752</td>\n",
       "    </tr>\n",
       "  </tbody>\n",
       "</table>\n",
       "</div>"
      ],
      "text/plain": [
       "        title currency  sold_price    sold_date\n",
       "count   22347    22226       22226        22447\n",
       "unique  13139        2        3894           12\n",
       "top     title        £  sold_price  11 Sep 2022\n",
       "freq      367    21859         367         3752"
      ]
     },
     "execution_count": 640,
     "metadata": {},
     "output_type": "execute_result"
    }
   ],
   "source": [
    "df_ebay.describe()"
   ]
  },
  {
   "cell_type": "markdown",
   "metadata": {},
   "source": [
    "___________________________________________________________________\n",
    "# EDA\n",
    "\n",
    "CLEAN LEGO INVENTORIES DATA"
   ]
  },
  {
   "cell_type": "markdown",
   "metadata": {},
   "source": [
    "Remove unused columns and copy to new DataFrame"
   ]
  },
  {
   "cell_type": "code",
   "execution_count": 641,
   "metadata": {},
   "outputs": [],
   "source": [
    "df_inventories_cleaned = df_inventories[['Number', 'Theme' , 'Minifigs', 'Pieces', 'RRP (GBP)', 'Launch date', 'Exit date']]"
   ]
  },
  {
   "cell_type": "code",
   "execution_count": 642,
   "metadata": {},
   "outputs": [
    {
     "data": {
      "text/plain": [
       "Number            0\n",
       "Theme             0\n",
       "Minifigs       4580\n",
       "Pieces         2337\n",
       "RRP (GBP)      3442\n",
       "Launch date    4326\n",
       "Exit date      4326\n",
       "dtype: int64"
      ]
     },
     "execution_count": 642,
     "metadata": {},
     "output_type": "execute_result"
    }
   ],
   "source": [
    "df_inventories_cleaned.isnull().sum()"
   ]
  },
  {
   "cell_type": "markdown",
   "metadata": {},
   "source": [
    "Any missing RRP will be not useful in this analysis. "
   ]
  },
  {
   "cell_type": "markdown",
   "metadata": {},
   "source": [
    "So we drop them"
   ]
  },
  {
   "cell_type": "code",
   "execution_count": 643,
   "metadata": {},
   "outputs": [],
   "source": [
    "df_inventories_cleaned = df_inventories_cleaned[~df_inventories_cleaned['RRP (GBP)'].isna()]"
   ]
  },
  {
   "cell_type": "markdown",
   "metadata": {},
   "source": [
    "We clean the set number to contain only the main code"
   ]
  },
  {
   "cell_type": "code",
   "execution_count": 644,
   "metadata": {},
   "outputs": [],
   "source": [
    "df_inventories_cleaned['Number'] = df_inventories_cleaned['Number'].str.replace(r'-\\d+', '', regex=True).str.replace(r'\\D','', regex=True)\n",
    "df_inventories_cleaned = df_inventories_cleaned[~(df_inventories_cleaned['Number'] == '')]\n",
    "df_inventories_cleaned['Number'] = df_inventories_cleaned['Number'].astype('int64')"
   ]
  },
  {
   "cell_type": "code",
   "execution_count": 645,
   "metadata": {},
   "outputs": [
    {
     "data": {
      "text/html": [
       "<div>\n",
       "<style scoped>\n",
       "    .dataframe tbody tr th:only-of-type {\n",
       "        vertical-align: middle;\n",
       "    }\n",
       "\n",
       "    .dataframe tbody tr th {\n",
       "        vertical-align: top;\n",
       "    }\n",
       "\n",
       "    .dataframe thead th {\n",
       "        text-align: right;\n",
       "    }\n",
       "</style>\n",
       "<table border=\"1\" class=\"dataframe\">\n",
       "  <thead>\n",
       "    <tr style=\"text-align: right;\">\n",
       "      <th></th>\n",
       "      <th>Number</th>\n",
       "      <th>Theme</th>\n",
       "      <th>Minifigs</th>\n",
       "      <th>Pieces</th>\n",
       "      <th>RRP (GBP)</th>\n",
       "      <th>Launch date</th>\n",
       "      <th>Exit date</th>\n",
       "    </tr>\n",
       "  </thead>\n",
       "  <tbody>\n",
       "    <tr>\n",
       "      <th>0</th>\n",
       "      <td>3061</td>\n",
       "      <td>Friends</td>\n",
       "      <td>2.0</td>\n",
       "      <td>222.0</td>\n",
       "      <td>29.99</td>\n",
       "      <td>01/01/2012</td>\n",
       "      <td>31/12/2013</td>\n",
       "    </tr>\n",
       "    <tr>\n",
       "      <th>1</th>\n",
       "      <td>3063</td>\n",
       "      <td>Friends</td>\n",
       "      <td>1.0</td>\n",
       "      <td>195.0</td>\n",
       "      <td>19.99</td>\n",
       "      <td>01/06/2012</td>\n",
       "      <td>31/12/2013</td>\n",
       "    </tr>\n",
       "    <tr>\n",
       "      <th>2</th>\n",
       "      <td>3065</td>\n",
       "      <td>Friends</td>\n",
       "      <td>1.0</td>\n",
       "      <td>191.0</td>\n",
       "      <td>19.99</td>\n",
       "      <td>01/01/2012</td>\n",
       "      <td>31/12/2013</td>\n",
       "    </tr>\n",
       "    <tr>\n",
       "      <th>3</th>\n",
       "      <td>3183</td>\n",
       "      <td>Friends</td>\n",
       "      <td>1.0</td>\n",
       "      <td>130.0</td>\n",
       "      <td>14.99</td>\n",
       "      <td>01/01/2012</td>\n",
       "      <td>31/07/2013</td>\n",
       "    </tr>\n",
       "    <tr>\n",
       "      <th>4</th>\n",
       "      <td>3184</td>\n",
       "      <td>Friends</td>\n",
       "      <td>2.0</td>\n",
       "      <td>309.0</td>\n",
       "      <td>29.99</td>\n",
       "      <td>01/06/2012</td>\n",
       "      <td>31/12/2013</td>\n",
       "    </tr>\n",
       "    <tr>\n",
       "      <th>...</th>\n",
       "      <td>...</td>\n",
       "      <td>...</td>\n",
       "      <td>...</td>\n",
       "      <td>...</td>\n",
       "      <td>...</td>\n",
       "      <td>...</td>\n",
       "      <td>...</td>\n",
       "    </tr>\n",
       "    <tr>\n",
       "      <th>8904</th>\n",
       "      <td>5007454</td>\n",
       "      <td>Gear</td>\n",
       "      <td>NaN</td>\n",
       "      <td>NaN</td>\n",
       "      <td>24.99</td>\n",
       "      <td>NaN</td>\n",
       "      <td>NaN</td>\n",
       "    </tr>\n",
       "    <tr>\n",
       "      <th>8905</th>\n",
       "      <td>5007455</td>\n",
       "      <td>Gear</td>\n",
       "      <td>NaN</td>\n",
       "      <td>NaN</td>\n",
       "      <td>24.99</td>\n",
       "      <td>NaN</td>\n",
       "      <td>NaN</td>\n",
       "    </tr>\n",
       "    <tr>\n",
       "      <th>8909</th>\n",
       "      <td>5007486</td>\n",
       "      <td>Gear</td>\n",
       "      <td>NaN</td>\n",
       "      <td>NaN</td>\n",
       "      <td>39.99</td>\n",
       "      <td>NaN</td>\n",
       "      <td>NaN</td>\n",
       "    </tr>\n",
       "    <tr>\n",
       "      <th>8911</th>\n",
       "      <td>5007493</td>\n",
       "      <td>Gear</td>\n",
       "      <td>NaN</td>\n",
       "      <td>NaN</td>\n",
       "      <td>24.99</td>\n",
       "      <td>NaN</td>\n",
       "      <td>NaN</td>\n",
       "    </tr>\n",
       "    <tr>\n",
       "      <th>8912</th>\n",
       "      <td>5007494</td>\n",
       "      <td>Gear</td>\n",
       "      <td>NaN</td>\n",
       "      <td>NaN</td>\n",
       "      <td>34.99</td>\n",
       "      <td>NaN</td>\n",
       "      <td>NaN</td>\n",
       "    </tr>\n",
       "  </tbody>\n",
       "</table>\n",
       "<p>5509 rows × 7 columns</p>\n",
       "</div>"
      ],
      "text/plain": [
       "       Number    Theme  Minifigs  Pieces  RRP (GBP) Launch date   Exit date\n",
       "0        3061  Friends       2.0   222.0      29.99  01/01/2012  31/12/2013\n",
       "1        3063  Friends       1.0   195.0      19.99  01/06/2012  31/12/2013\n",
       "2        3065  Friends       1.0   191.0      19.99  01/01/2012  31/12/2013\n",
       "3        3183  Friends       1.0   130.0      14.99  01/01/2012  31/07/2013\n",
       "4        3184  Friends       2.0   309.0      29.99  01/06/2012  31/12/2013\n",
       "...       ...      ...       ...     ...        ...         ...         ...\n",
       "8904  5007454     Gear       NaN     NaN      24.99         NaN         NaN\n",
       "8905  5007455     Gear       NaN     NaN      24.99         NaN         NaN\n",
       "8909  5007486     Gear       NaN     NaN      39.99         NaN         NaN\n",
       "8911  5007493     Gear       NaN     NaN      24.99         NaN         NaN\n",
       "8912  5007494     Gear       NaN     NaN      34.99         NaN         NaN\n",
       "\n",
       "[5509 rows x 7 columns]"
      ]
     },
     "execution_count": 645,
     "metadata": {},
     "output_type": "execute_result"
    }
   ],
   "source": [
    "df_inventories_cleaned"
   ]
  },
  {
   "cell_type": "markdown",
   "metadata": {},
   "source": [
    "********************************************\n",
    "CLEAN SCRAPED EBAY DATA\n",
    "\n",
    "Extract all numbers found in title into columns"
   ]
  },
  {
   "cell_type": "code",
   "execution_count": 646,
   "metadata": {},
   "outputs": [],
   "source": [
    "\n",
    "# Extract all numbers in title to a list in a new DataFrame: normally LEGO's numbers code, number of pieces, set quantity, number of minifigures, etc.\n",
    "df_numbers = df_ebay['title'].str.findall('([0-9]+)').to_list()\n",
    "\n",
    "# Express all values in list to multi columns, each with one value.\n",
    "# As with LEGO sets, the number of pieces is usually smaller than the actual number code. Other number are significantly smaller than the pieces and number code.\n",
    "# Fill all nan value with 0, convert to int data type to find the max value\n",
    "\n",
    "# df_numbers = df_ebay.numbers.apply(pd.Series).fillna(0).astype(int).max(axis=1)\n",
    "df_numbers = pd.DataFrame([pd.Series(x, dtype = 'float') for x in df_numbers]).fillna(0).astype(int).max(axis=1) # Use this method to avoid the warning: 'The default dtype for empty Series will be 'object' instead of 'float64' in a future version warning'"
   ]
  },
  {
   "cell_type": "code",
   "execution_count": 647,
   "metadata": {},
   "outputs": [],
   "source": [
    "df_ebay_cleaned = df_ebay[['title', 'currency','sold_price', 'sold_date']]"
   ]
  },
  {
   "cell_type": "code",
   "execution_count": 648,
   "metadata": {},
   "outputs": [
    {
     "data": {
      "text/plain": [
       "title         100\n",
       "currency      221\n",
       "sold_price    221\n",
       "sold_date       0\n",
       "Number          0\n",
       "dtype: int64"
      ]
     },
     "execution_count": 648,
     "metadata": {},
     "output_type": "execute_result"
    }
   ],
   "source": [
    "# Update the column 'numbers' with the correct value\n",
    "df_ebay_cleaned.loc[:,'Number'] = df_numbers\n",
    "# Check null values in the set\n",
    "df_ebay_cleaned.isnull().sum()"
   ]
  },
  {
   "cell_type": "code",
   "execution_count": 649,
   "metadata": {},
   "outputs": [],
   "source": [
    "# Remove duplicates\n",
    "df_ebay_cleaned = df_ebay_cleaned.drop_duplicates()"
   ]
  },
  {
   "cell_type": "markdown",
   "metadata": {},
   "source": [
    "Remove Outlier\n",
    "\n",
    "Are those any invalid values: set number smaller than 999 and larger than 99999"
   ]
  },
  {
   "cell_type": "code",
   "execution_count": 650,
   "metadata": {},
   "outputs": [
    {
     "data": {
      "text/plain": [
       "2414"
      ]
     },
     "execution_count": 650,
     "metadata": {},
     "output_type": "execute_result"
    }
   ],
   "source": [
    "filter = ((df_ebay_cleaned['Number'] < 999) | (df_ebay_cleaned['Number'] > 99999))\n",
    "filter.sum()"
   ]
  },
  {
   "cell_type": "markdown",
   "metadata": {},
   "source": [
    "There are invalid values. We're going to drop them."
   ]
  },
  {
   "cell_type": "code",
   "execution_count": 651,
   "metadata": {},
   "outputs": [],
   "source": [
    "# Take only row with a valid numbers: number set is from 999 to 99999. \n",
    "df_ebay_cleaned = df_ebay_cleaned[~filter]\n",
    "# Also we droped any row with sold_price is null\n",
    "df_ebay_cleaned = df_ebay_cleaned[df_ebay_cleaned['sold_price'].notnull()]\n",
    "df_ebay_cleaned['sold_price'] =df_ebay_cleaned['sold_price'].astype(float)"
   ]
  },
  {
   "cell_type": "code",
   "execution_count": 652,
   "metadata": {},
   "outputs": [
    {
     "data": {
      "text/plain": [
       "(12968, 5)"
      ]
     },
     "execution_count": 652,
     "metadata": {},
     "output_type": "execute_result"
    }
   ],
   "source": [
    "df_ebay_cleaned.shape"
   ]
  },
  {
   "cell_type": "markdown",
   "metadata": {},
   "source": [
    "# Merge two dataset"
   ]
  },
  {
   "cell_type": "code",
   "execution_count": 653,
   "metadata": {},
   "outputs": [],
   "source": [
    "df = pd.merge(df_ebay_cleaned, df_inventories_cleaned, how='inner', on =['Number'])"
   ]
  },
  {
   "cell_type": "code",
   "execution_count": 654,
   "metadata": {},
   "outputs": [
    {
     "data": {
      "text/html": [
       "<div>\n",
       "<style scoped>\n",
       "    .dataframe tbody tr th:only-of-type {\n",
       "        vertical-align: middle;\n",
       "    }\n",
       "\n",
       "    .dataframe tbody tr th {\n",
       "        vertical-align: top;\n",
       "    }\n",
       "\n",
       "    .dataframe thead th {\n",
       "        text-align: right;\n",
       "    }\n",
       "</style>\n",
       "<table border=\"1\" class=\"dataframe\">\n",
       "  <thead>\n",
       "    <tr style=\"text-align: right;\">\n",
       "      <th></th>\n",
       "      <th>title</th>\n",
       "      <th>currency</th>\n",
       "      <th>sold_price</th>\n",
       "      <th>sold_date</th>\n",
       "      <th>Number</th>\n",
       "      <th>Theme</th>\n",
       "      <th>Minifigs</th>\n",
       "      <th>Pieces</th>\n",
       "      <th>RRP (GBP)</th>\n",
       "      <th>Launch date</th>\n",
       "      <th>Exit date</th>\n",
       "    </tr>\n",
       "  </thead>\n",
       "  <tbody>\n",
       "    <tr>\n",
       "      <th>0</th>\n",
       "      <td>Lego STAR WARS MILLENNIUM FALCON BRAND NEW 135...</td>\n",
       "      <td>£</td>\n",
       "      <td>108.79</td>\n",
       "      <td>9 Sep 2022</td>\n",
       "      <td>75257</td>\n",
       "      <td>Star Wars</td>\n",
       "      <td>7.0</td>\n",
       "      <td>1351.0</td>\n",
       "      <td>149.99</td>\n",
       "      <td>04/10/2019</td>\n",
       "      <td>31/12/2023</td>\n",
       "    </tr>\n",
       "    <tr>\n",
       "      <th>1</th>\n",
       "      <td>LEGO Millennium Falcon Star Wars TM (75257) *F...</td>\n",
       "      <td>£</td>\n",
       "      <td>117.50</td>\n",
       "      <td>9 Sep 2022</td>\n",
       "      <td>75257</td>\n",
       "      <td>Star Wars</td>\n",
       "      <td>7.0</td>\n",
       "      <td>1351.0</td>\n",
       "      <td>149.99</td>\n",
       "      <td>04/10/2019</td>\n",
       "      <td>31/12/2023</td>\n",
       "    </tr>\n",
       "    <tr>\n",
       "      <th>2</th>\n",
       "      <td>LEGO Millennium Falcon Star Wars TM (75257) 13...</td>\n",
       "      <td>£</td>\n",
       "      <td>119.23</td>\n",
       "      <td>7 Sep 2022</td>\n",
       "      <td>75257</td>\n",
       "      <td>Star Wars</td>\n",
       "      <td>7.0</td>\n",
       "      <td>1351.0</td>\n",
       "      <td>149.99</td>\n",
       "      <td>04/10/2019</td>\n",
       "      <td>31/12/2023</td>\n",
       "    </tr>\n",
       "    <tr>\n",
       "      <th>3</th>\n",
       "      <td>LEGO Star Wars: Millennium Falcon (75257), new...</td>\n",
       "      <td>£</td>\n",
       "      <td>109.00</td>\n",
       "      <td>10 Sep 2022</td>\n",
       "      <td>75257</td>\n",
       "      <td>Star Wars</td>\n",
       "      <td>7.0</td>\n",
       "      <td>1351.0</td>\n",
       "      <td>149.99</td>\n",
       "      <td>04/10/2019</td>\n",
       "      <td>31/12/2023</td>\n",
       "    </tr>\n",
       "    <tr>\n",
       "      <th>4</th>\n",
       "      <td>LEGO Millennium Falcon Star Wars TM (75257) 13...</td>\n",
       "      <td>£</td>\n",
       "      <td>118.27</td>\n",
       "      <td>9 Sep 2022</td>\n",
       "      <td>75257</td>\n",
       "      <td>Star Wars</td>\n",
       "      <td>7.0</td>\n",
       "      <td>1351.0</td>\n",
       "      <td>149.99</td>\n",
       "      <td>04/10/2019</td>\n",
       "      <td>31/12/2023</td>\n",
       "    </tr>\n",
       "    <tr>\n",
       "      <th>...</th>\n",
       "      <td>...</td>\n",
       "      <td>...</td>\n",
       "      <td>...</td>\n",
       "      <td>...</td>\n",
       "      <td>...</td>\n",
       "      <td>...</td>\n",
       "      <td>...</td>\n",
       "      <td>...</td>\n",
       "      <td>...</td>\n",
       "      <td>...</td>\n",
       "      <td>...</td>\n",
       "    </tr>\n",
       "    <tr>\n",
       "      <th>12543</th>\n",
       "      <td>Lego The LEGO Movie 2 Rex's Rex-treme Offroade...</td>\n",
       "      <td>£</td>\n",
       "      <td>17.00</td>\n",
       "      <td>12 Sep 2022</td>\n",
       "      <td>70826</td>\n",
       "      <td>The LEGO Movie 2</td>\n",
       "      <td>2.0</td>\n",
       "      <td>236.0</td>\n",
       "      <td>24.99</td>\n",
       "      <td>01/01/2019</td>\n",
       "      <td>31/12/2019</td>\n",
       "    </tr>\n",
       "    <tr>\n",
       "      <th>12544</th>\n",
       "      <td>SET BOITE LEGO STAR WARS VAISSEAU 75145 DENGAR...</td>\n",
       "      <td>£</td>\n",
       "      <td>46.73</td>\n",
       "      <td>12 Sep 2022</td>\n",
       "      <td>75145</td>\n",
       "      <td>Star Wars</td>\n",
       "      <td>2.0</td>\n",
       "      <td>363.0</td>\n",
       "      <td>39.99</td>\n",
       "      <td>01/06/2016</td>\n",
       "      <td>31/12/2017</td>\n",
       "    </tr>\n",
       "    <tr>\n",
       "      <th>12545</th>\n",
       "      <td>LEGO LEGO CLASSIC: Bricks and Functions (11019...</td>\n",
       "      <td>£</td>\n",
       "      <td>16.00</td>\n",
       "      <td>12 Sep 2022</td>\n",
       "      <td>11019</td>\n",
       "      <td>Classic</td>\n",
       "      <td>NaN</td>\n",
       "      <td>500.0</td>\n",
       "      <td>29.99</td>\n",
       "      <td>01/03/2022</td>\n",
       "      <td>31/12/2023</td>\n",
       "    </tr>\n",
       "    <tr>\n",
       "      <th>12546</th>\n",
       "      <td>LEGO CITY: People Pack - Fun in the Park (6013...</td>\n",
       "      <td>£</td>\n",
       "      <td>34.17</td>\n",
       "      <td>12 Sep 2022</td>\n",
       "      <td>60134</td>\n",
       "      <td>City</td>\n",
       "      <td>15.0</td>\n",
       "      <td>157.0</td>\n",
       "      <td>34.99</td>\n",
       "      <td>01/06/2016</td>\n",
       "      <td>31/12/2017</td>\n",
       "    </tr>\n",
       "    <tr>\n",
       "      <th>12547</th>\n",
       "      <td>LEGO 71412 Super Mario Big Bad Island Expansio...</td>\n",
       "      <td>£</td>\n",
       "      <td>51.26</td>\n",
       "      <td>12 Sep 2022</td>\n",
       "      <td>71412</td>\n",
       "      <td>Super Mario</td>\n",
       "      <td>NaN</td>\n",
       "      <td>354.0</td>\n",
       "      <td>39.99</td>\n",
       "      <td>01/08/2022</td>\n",
       "      <td>31/07/2023</td>\n",
       "    </tr>\n",
       "  </tbody>\n",
       "</table>\n",
       "<p>12548 rows × 11 columns</p>\n",
       "</div>"
      ],
      "text/plain": [
       "                                                   title currency  sold_price  \\\n",
       "0      Lego STAR WARS MILLENNIUM FALCON BRAND NEW 135...        £      108.79   \n",
       "1      LEGO Millennium Falcon Star Wars TM (75257) *F...        £      117.50   \n",
       "2      LEGO Millennium Falcon Star Wars TM (75257) 13...        £      119.23   \n",
       "3      LEGO Star Wars: Millennium Falcon (75257), new...        £      109.00   \n",
       "4      LEGO Millennium Falcon Star Wars TM (75257) 13...        £      118.27   \n",
       "...                                                  ...      ...         ...   \n",
       "12543  Lego The LEGO Movie 2 Rex's Rex-treme Offroade...        £       17.00   \n",
       "12544  SET BOITE LEGO STAR WARS VAISSEAU 75145 DENGAR...        £       46.73   \n",
       "12545  LEGO LEGO CLASSIC: Bricks and Functions (11019...        £       16.00   \n",
       "12546  LEGO CITY: People Pack - Fun in the Park (6013...        £       34.17   \n",
       "12547  LEGO 71412 Super Mario Big Bad Island Expansio...        £       51.26   \n",
       "\n",
       "         sold_date  Number             Theme  Minifigs  Pieces  RRP (GBP)  \\\n",
       "0       9 Sep 2022   75257         Star Wars       7.0  1351.0     149.99   \n",
       "1       9 Sep 2022   75257         Star Wars       7.0  1351.0     149.99   \n",
       "2       7 Sep 2022   75257         Star Wars       7.0  1351.0     149.99   \n",
       "3      10 Sep 2022   75257         Star Wars       7.0  1351.0     149.99   \n",
       "4       9 Sep 2022   75257         Star Wars       7.0  1351.0     149.99   \n",
       "...            ...     ...               ...       ...     ...        ...   \n",
       "12543  12 Sep 2022   70826  The LEGO Movie 2       2.0   236.0      24.99   \n",
       "12544  12 Sep 2022   75145         Star Wars       2.0   363.0      39.99   \n",
       "12545  12 Sep 2022   11019           Classic       NaN   500.0      29.99   \n",
       "12546  12 Sep 2022   60134              City      15.0   157.0      34.99   \n",
       "12547  12 Sep 2022   71412       Super Mario       NaN   354.0      39.99   \n",
       "\n",
       "      Launch date   Exit date  \n",
       "0      04/10/2019  31/12/2023  \n",
       "1      04/10/2019  31/12/2023  \n",
       "2      04/10/2019  31/12/2023  \n",
       "3      04/10/2019  31/12/2023  \n",
       "4      04/10/2019  31/12/2023  \n",
       "...           ...         ...  \n",
       "12543  01/01/2019  31/12/2019  \n",
       "12544  01/06/2016  31/12/2017  \n",
       "12545  01/03/2022  31/12/2023  \n",
       "12546  01/06/2016  31/12/2017  \n",
       "12547  01/08/2022  31/07/2023  \n",
       "\n",
       "[12548 rows x 11 columns]"
      ]
     },
     "execution_count": 654,
     "metadata": {},
     "output_type": "execute_result"
    }
   ],
   "source": [
    "df"
   ]
  },
  {
   "cell_type": "markdown",
   "metadata": {},
   "source": [
    "***************************************************************************************************************************************************************\n"
   ]
  },
  {
   "cell_type": "markdown",
   "metadata": {},
   "source": [
    "# Exploratory Data Analysis"
   ]
  },
  {
   "cell_type": "markdown",
   "metadata": {},
   "source": [
    "## Total sold themes wise"
   ]
  },
  {
   "cell_type": "code",
   "execution_count": 655,
   "metadata": {},
   "outputs": [
    {
     "data": {
      "text/plain": [
       "77"
      ]
     },
     "execution_count": 655,
     "metadata": {},
     "output_type": "execute_result"
    }
   ],
   "source": [
    "len(df['Theme'].unique())"
   ]
  },
  {
   "cell_type": "code",
   "execution_count": 656,
   "metadata": {},
   "outputs": [
    {
     "data": {
      "image/png": "[encoded data removed]",
      "text/plain": [
       "<Figure size 1152x1008 with 1 Axes>"
      ]
     },
     "metadata": {},
     "output_type": "display_data"
    }
   ],
   "source": [
    "fig, ax = plt.subplots(figsize = (16,14))\n",
    "themes_count = df['Theme'].value_counts()\n",
    "ax = sns.barplot(x = themes_count, y = themes_count.index, data=df)\n",
    "plt.xticks(size=15)\n",
    "plt.xlabel('Frequency', size = 20)\n",
    "plt.ylabel('Themes', size = 20)\n",
    "plt.title('All themes sold on Ebay by frequency', size = 24)\n",
    "plt.show()\n"
   ]
  },
  {
   "cell_type": "markdown",
   "metadata": {},
   "source": [
    "There are a number of themes have verry little sold. So these are considered as outlier and we will remove them in the analysis."
   ]
  },
  {
   "cell_type": "code",
   "execution_count": 657,
   "metadata": {},
   "outputs": [],
   "source": [
    "ix = df['Theme'].value_counts()[df['Theme'].value_counts()<100].index\n",
    "index = df[df['Theme'].isin(ix)].index\n",
    "df.drop(index, axis=0, inplace=True)"
   ]
  },
  {
   "cell_type": "code",
   "execution_count": 658,
   "metadata": {},
   "outputs": [
    {
     "data": {
      "text/html": [
       "<div>\n",
       "<style scoped>\n",
       "    .dataframe tbody tr th:only-of-type {\n",
       "        vertical-align: middle;\n",
       "    }\n",
       "\n",
       "    .dataframe tbody tr th {\n",
       "        vertical-align: top;\n",
       "    }\n",
       "\n",
       "    .dataframe thead th {\n",
       "        text-align: right;\n",
       "    }\n",
       "</style>\n",
       "<table border=\"1\" class=\"dataframe\">\n",
       "  <thead>\n",
       "    <tr style=\"text-align: right;\">\n",
       "      <th></th>\n",
       "      <th>title</th>\n",
       "      <th>currency</th>\n",
       "      <th>sold_price</th>\n",
       "      <th>sold_date</th>\n",
       "      <th>Number</th>\n",
       "      <th>Theme</th>\n",
       "      <th>Minifigs</th>\n",
       "      <th>Pieces</th>\n",
       "      <th>RRP (GBP)</th>\n",
       "      <th>Launch date</th>\n",
       "      <th>Exit date</th>\n",
       "    </tr>\n",
       "  </thead>\n",
       "  <tbody>\n",
       "    <tr>\n",
       "      <th>0</th>\n",
       "      <td>Lego STAR WARS MILLENNIUM FALCON BRAND NEW 135...</td>\n",
       "      <td>£</td>\n",
       "      <td>108.79</td>\n",
       "      <td>9 Sep 2022</td>\n",
       "      <td>75257</td>\n",
       "      <td>Star Wars</td>\n",
       "      <td>7.0</td>\n",
       "      <td>1351.0</td>\n",
       "      <td>149.99</td>\n",
       "      <td>04/10/2019</td>\n",
       "      <td>31/12/2023</td>\n",
       "    </tr>\n",
       "    <tr>\n",
       "      <th>1</th>\n",
       "      <td>LEGO Millennium Falcon Star Wars TM (75257) *F...</td>\n",
       "      <td>£</td>\n",
       "      <td>117.50</td>\n",
       "      <td>9 Sep 2022</td>\n",
       "      <td>75257</td>\n",
       "      <td>Star Wars</td>\n",
       "      <td>7.0</td>\n",
       "      <td>1351.0</td>\n",
       "      <td>149.99</td>\n",
       "      <td>04/10/2019</td>\n",
       "      <td>31/12/2023</td>\n",
       "    </tr>\n",
       "    <tr>\n",
       "      <th>2</th>\n",
       "      <td>LEGO Millennium Falcon Star Wars TM (75257) 13...</td>\n",
       "      <td>£</td>\n",
       "      <td>119.23</td>\n",
       "      <td>7 Sep 2022</td>\n",
       "      <td>75257</td>\n",
       "      <td>Star Wars</td>\n",
       "      <td>7.0</td>\n",
       "      <td>1351.0</td>\n",
       "      <td>149.99</td>\n",
       "      <td>04/10/2019</td>\n",
       "      <td>31/12/2023</td>\n",
       "    </tr>\n",
       "    <tr>\n",
       "      <th>3</th>\n",
       "      <td>LEGO Star Wars: Millennium Falcon (75257), new...</td>\n",
       "      <td>£</td>\n",
       "      <td>109.00</td>\n",
       "      <td>10 Sep 2022</td>\n",
       "      <td>75257</td>\n",
       "      <td>Star Wars</td>\n",
       "      <td>7.0</td>\n",
       "      <td>1351.0</td>\n",
       "      <td>149.99</td>\n",
       "      <td>04/10/2019</td>\n",
       "      <td>31/12/2023</td>\n",
       "    </tr>\n",
       "    <tr>\n",
       "      <th>4</th>\n",
       "      <td>LEGO Millennium Falcon Star Wars TM (75257) 13...</td>\n",
       "      <td>£</td>\n",
       "      <td>118.27</td>\n",
       "      <td>9 Sep 2022</td>\n",
       "      <td>75257</td>\n",
       "      <td>Star Wars</td>\n",
       "      <td>7.0</td>\n",
       "      <td>1351.0</td>\n",
       "      <td>149.99</td>\n",
       "      <td>04/10/2019</td>\n",
       "      <td>31/12/2023</td>\n",
       "    </tr>\n",
       "    <tr>\n",
       "      <th>...</th>\n",
       "      <td>...</td>\n",
       "      <td>...</td>\n",
       "      <td>...</td>\n",
       "      <td>...</td>\n",
       "      <td>...</td>\n",
       "      <td>...</td>\n",
       "      <td>...</td>\n",
       "      <td>...</td>\n",
       "      <td>...</td>\n",
       "      <td>...</td>\n",
       "      <td>...</td>\n",
       "    </tr>\n",
       "    <tr>\n",
       "      <th>12540</th>\n",
       "      <td>LEGO Technic Forest Machine - Set 42080 Build ...</td>\n",
       "      <td>£</td>\n",
       "      <td>145.22</td>\n",
       "      <td>12 Sep 2022</td>\n",
       "      <td>42080</td>\n",
       "      <td>Technic</td>\n",
       "      <td>NaN</td>\n",
       "      <td>1003.0</td>\n",
       "      <td>119.99</td>\n",
       "      <td>01/08/2018</td>\n",
       "      <td>31/12/2019</td>\n",
       "    </tr>\n",
       "    <tr>\n",
       "      <th>12542</th>\n",
       "      <td>2017 Lego Technic Ultralight Helicopter (42057)</td>\n",
       "      <td>£</td>\n",
       "      <td>30.00</td>\n",
       "      <td>12 Sep 2022</td>\n",
       "      <td>42057</td>\n",
       "      <td>Technic</td>\n",
       "      <td>NaN</td>\n",
       "      <td>199.0</td>\n",
       "      <td>14.99</td>\n",
       "      <td>NaN</td>\n",
       "      <td>NaN</td>\n",
       "    </tr>\n",
       "    <tr>\n",
       "      <th>12544</th>\n",
       "      <td>SET BOITE LEGO STAR WARS VAISSEAU 75145 DENGAR...</td>\n",
       "      <td>£</td>\n",
       "      <td>46.73</td>\n",
       "      <td>12 Sep 2022</td>\n",
       "      <td>75145</td>\n",
       "      <td>Star Wars</td>\n",
       "      <td>2.0</td>\n",
       "      <td>363.0</td>\n",
       "      <td>39.99</td>\n",
       "      <td>01/06/2016</td>\n",
       "      <td>31/12/2017</td>\n",
       "    </tr>\n",
       "    <tr>\n",
       "      <th>12546</th>\n",
       "      <td>LEGO CITY: People Pack - Fun in the Park (6013...</td>\n",
       "      <td>£</td>\n",
       "      <td>34.17</td>\n",
       "      <td>12 Sep 2022</td>\n",
       "      <td>60134</td>\n",
       "      <td>City</td>\n",
       "      <td>15.0</td>\n",
       "      <td>157.0</td>\n",
       "      <td>34.99</td>\n",
       "      <td>01/06/2016</td>\n",
       "      <td>31/12/2017</td>\n",
       "    </tr>\n",
       "    <tr>\n",
       "      <th>12547</th>\n",
       "      <td>LEGO 71412 Super Mario Big Bad Island Expansio...</td>\n",
       "      <td>£</td>\n",
       "      <td>51.26</td>\n",
       "      <td>12 Sep 2022</td>\n",
       "      <td>71412</td>\n",
       "      <td>Super Mario</td>\n",
       "      <td>NaN</td>\n",
       "      <td>354.0</td>\n",
       "      <td>39.99</td>\n",
       "      <td>01/08/2022</td>\n",
       "      <td>31/07/2023</td>\n",
       "    </tr>\n",
       "  </tbody>\n",
       "</table>\n",
       "<p>11290 rows × 11 columns</p>\n",
       "</div>"
      ],
      "text/plain": [
       "                                                   title currency  sold_price  \\\n",
       "0      Lego STAR WARS MILLENNIUM FALCON BRAND NEW 135...        £      108.79   \n",
       "1      LEGO Millennium Falcon Star Wars TM (75257) *F...        £      117.50   \n",
       "2      LEGO Millennium Falcon Star Wars TM (75257) 13...        £      119.23   \n",
       "3      LEGO Star Wars: Millennium Falcon (75257), new...        £      109.00   \n",
       "4      LEGO Millennium Falcon Star Wars TM (75257) 13...        £      118.27   \n",
       "...                                                  ...      ...         ...   \n",
       "12540  LEGO Technic Forest Machine - Set 42080 Build ...        £      145.22   \n",
       "12542    2017 Lego Technic Ultralight Helicopter (42057)        £       30.00   \n",
       "12544  SET BOITE LEGO STAR WARS VAISSEAU 75145 DENGAR...        £       46.73   \n",
       "12546  LEGO CITY: People Pack - Fun in the Park (6013...        £       34.17   \n",
       "12547  LEGO 71412 Super Mario Big Bad Island Expansio...        £       51.26   \n",
       "\n",
       "         sold_date  Number        Theme  Minifigs  Pieces  RRP (GBP)  \\\n",
       "0       9 Sep 2022   75257    Star Wars       7.0  1351.0     149.99   \n",
       "1       9 Sep 2022   75257    Star Wars       7.0  1351.0     149.99   \n",
       "2       7 Sep 2022   75257    Star Wars       7.0  1351.0     149.99   \n",
       "3      10 Sep 2022   75257    Star Wars       7.0  1351.0     149.99   \n",
       "4       9 Sep 2022   75257    Star Wars       7.0  1351.0     149.99   \n",
       "...            ...     ...          ...       ...     ...        ...   \n",
       "12540  12 Sep 2022   42080      Technic       NaN  1003.0     119.99   \n",
       "12542  12 Sep 2022   42057      Technic       NaN   199.0      14.99   \n",
       "12544  12 Sep 2022   75145    Star Wars       2.0   363.0      39.99   \n",
       "12546  12 Sep 2022   60134         City      15.0   157.0      34.99   \n",
       "12547  12 Sep 2022   71412  Super Mario       NaN   354.0      39.99   \n",
       "\n",
       "      Launch date   Exit date  \n",
       "0      04/10/2019  31/12/2023  \n",
       "1      04/10/2019  31/12/2023  \n",
       "2      04/10/2019  31/12/2023  \n",
       "3      04/10/2019  31/12/2023  \n",
       "4      04/10/2019  31/12/2023  \n",
       "...           ...         ...  \n",
       "12540  01/08/2018  31/12/2019  \n",
       "12542         NaN         NaN  \n",
       "12544  01/06/2016  31/12/2017  \n",
       "12546  01/06/2016  31/12/2017  \n",
       "12547  01/08/2022  31/07/2023  \n",
       "\n",
       "[11290 rows x 11 columns]"
      ]
     },
     "execution_count": 658,
     "metadata": {},
     "output_type": "execute_result"
    }
   ],
   "source": [
    "df"
   ]
  },
  {
   "cell_type": "markdown",
   "metadata": {},
   "source": [
    "## Price range of themes"
   ]
  },
  {
   "cell_type": "code",
   "execution_count": 659,
   "metadata": {},
   "outputs": [
    {
     "data": {
      "image/png": "[encoded data removed]",
      "text/plain": [
       "<Figure size 1008x720 with 1 Axes>"
      ]
     },
     "metadata": {},
     "output_type": "display_data"
    }
   ],
   "source": [
    "fig, ax = plt.subplots(figsize = (14,10))\n",
    "order = df['Theme'].value_counts().index\n",
    "ax = sns.boxplot(data=df, x='sold_price', y='Theme', order=order)\n",
    "plt.xticks(size=15)\n",
    "plt.xlabel('Price (GBP)', size = 20)\n",
    "plt.ylabel('Themes', size = 20)\n",
    "plt.title('Price range per theme, sort by total sold', size = 24)\n",
    "plt.show()"
   ]
  },
  {
   "cell_type": "markdown",
   "metadata": {},
   "source": [
    "We can notice many outliers in each set. The reason might be some sellers sold multiple sets per ad. But to keep the simplicity of this analysis, we don't address this problem. Instead, we treat these as outliers needed to be removed."
   ]
  },
  {
   "cell_type": "markdown",
   "metadata": {},
   "source": [
    "### Remove outliers using IQR"
   ]
  },
  {
   "cell_type": "code",
   "execution_count": 660,
   "metadata": {},
   "outputs": [],
   "source": [
    "# IQR : Inter Quarltile Range\n",
    "Q1 = df['sold_price'].quantile(0.25)\n",
    "Q3 = df['sold_price'].quantile(0.75)\n",
    "IQR = Q3 - Q1\n",
    "\n",
    "df = df[~((df['sold_price'] < (Q1 - 1.5 * IQR)) |(df['sold_price'] > (Q3 + 1.5 * IQR)))]"
   ]
  },
  {
   "cell_type": "code",
   "execution_count": 661,
   "metadata": {},
   "outputs": [
    {
     "data": {
      "image/png": "[encoded data removed]",
      "text/plain": [
       "<Figure size 1008x720 with 1 Axes>"
      ]
     },
     "metadata": {},
     "output_type": "display_data"
    }
   ],
   "source": [
    "fig, ax = plt.subplots(figsize = (14,10))\n",
    "order = df['Theme'].value_counts().index\n",
    "ax = sns.boxplot(data=df, x='sold_price', y='Theme', order=order)\n",
    "plt.xticks(size=15)\n",
    "plt.ylabel('Themes', size = 20)\n",
    "plt.xlabel('Price (GBP)', size = 20)\n",
    "\n",
    "# ax2 = ax.twinx()\n",
    "# df_mean = df.groupby(['Theme']).mean().loc[order]\n",
    "# x = df_mean['RRP (GBP)']\n",
    "# y = df_mean.index\n",
    "# plt.plot(x, y)\n",
    "# ax2 = sns.pointplot(data=df, x='RRP (GBP)', y='Theme', order=order, color='red') # Mean retail price\n",
    "\n",
    "plt.title('Price range per theme, outliers removed', size = 24)\n",
    "plt.show()"
   ]
  },
  {
   "cell_type": "markdown",
   "metadata": {},
   "source": [
    "The results look better. However in some themes such 'Collectable Minifigures' the data is very skwed and the outliers is far away from the mean. So we explore the RRP and mean sale"
   ]
  },
  {
   "cell_type": "code",
   "execution_count": 662,
   "metadata": {},
   "outputs": [
    {
     "data": {
      "text/html": [
       "<div>\n",
       "<style scoped>\n",
       "    .dataframe tbody tr th:only-of-type {\n",
       "        vertical-align: middle;\n",
       "    }\n",
       "\n",
       "    .dataframe tbody tr th {\n",
       "        vertical-align: top;\n",
       "    }\n",
       "\n",
       "    .dataframe thead th {\n",
       "        text-align: right;\n",
       "    }\n",
       "</style>\n",
       "<table border=\"1\" class=\"dataframe\">\n",
       "  <thead>\n",
       "    <tr style=\"text-align: right;\">\n",
       "      <th></th>\n",
       "      <th>sold_price</th>\n",
       "      <th>Number</th>\n",
       "      <th>Minifigs</th>\n",
       "      <th>Pieces</th>\n",
       "      <th>RRP (GBP)</th>\n",
       "    </tr>\n",
       "    <tr>\n",
       "      <th>Theme</th>\n",
       "      <th></th>\n",
       "      <th></th>\n",
       "      <th></th>\n",
       "      <th></th>\n",
       "      <th></th>\n",
       "    </tr>\n",
       "  </thead>\n",
       "  <tbody>\n",
       "    <tr>\n",
       "      <th>Architecture</th>\n",
       "      <td>65.323974</td>\n",
       "      <td>21039.788079</td>\n",
       "      <td>NaN</td>\n",
       "      <td>771.536424</td>\n",
       "      <td>52.208543</td>\n",
       "    </tr>\n",
       "    <tr>\n",
       "      <th>BrickHeadz</th>\n",
       "      <td>27.166399</td>\n",
       "      <td>42878.657738</td>\n",
       "      <td>NaN</td>\n",
       "      <td>217.687500</td>\n",
       "      <td>14.878393</td>\n",
       "    </tr>\n",
       "    <tr>\n",
       "      <th>City</th>\n",
       "      <td>31.172866</td>\n",
       "      <td>59160.940299</td>\n",
       "      <td>3.523957</td>\n",
       "      <td>314.280597</td>\n",
       "      <td>37.085522</td>\n",
       "    </tr>\n",
       "    <tr>\n",
       "      <th>Collectable Minifigures</th>\n",
       "      <td>17.519536</td>\n",
       "      <td>69313.691834</td>\n",
       "      <td>1.445295</td>\n",
       "      <td>10.261787</td>\n",
       "      <td>3.251953</td>\n",
       "    </tr>\n",
       "    <tr>\n",
       "      <th>Creator</th>\n",
       "      <td>29.945671</td>\n",
       "      <td>32576.338415</td>\n",
       "      <td>2.401408</td>\n",
       "      <td>385.966463</td>\n",
       "      <td>29.058598</td>\n",
       "    </tr>\n",
       "    <tr>\n",
       "      <th>Creator Expert</th>\n",
       "      <td>86.074902</td>\n",
       "      <td>12918.000000</td>\n",
       "      <td>4.041667</td>\n",
       "      <td>1302.549020</td>\n",
       "      <td>93.421373</td>\n",
       "    </tr>\n",
       "    <tr>\n",
       "      <th>DC Comics Super Heroes</th>\n",
       "      <td>33.548156</td>\n",
       "      <td>72448.871508</td>\n",
       "      <td>3.006329</td>\n",
       "      <td>410.011173</td>\n",
       "      <td>38.948101</td>\n",
       "    </tr>\n",
       "    <tr>\n",
       "      <th>Disney</th>\n",
       "      <td>33.734211</td>\n",
       "      <td>44168.236842</td>\n",
       "      <td>2.546448</td>\n",
       "      <td>360.005263</td>\n",
       "      <td>38.811053</td>\n",
       "    </tr>\n",
       "    <tr>\n",
       "      <th>Duplo</th>\n",
       "      <td>28.719675</td>\n",
       "      <td>10774.779221</td>\n",
       "      <td>2.200000</td>\n",
       "      <td>43.376623</td>\n",
       "      <td>30.931558</td>\n",
       "    </tr>\n",
       "    <tr>\n",
       "      <th>Friends</th>\n",
       "      <td>29.599888</td>\n",
       "      <td>39668.320896</td>\n",
       "      <td>2.697674</td>\n",
       "      <td>419.126866</td>\n",
       "      <td>37.641119</td>\n",
       "    </tr>\n",
       "    <tr>\n",
       "      <th>Harry Potter</th>\n",
       "      <td>36.904370</td>\n",
       "      <td>75340.601852</td>\n",
       "      <td>4.977186</td>\n",
       "      <td>544.951852</td>\n",
       "      <td>49.079815</td>\n",
       "    </tr>\n",
       "    <tr>\n",
       "      <th>Icons</th>\n",
       "      <td>56.928989</td>\n",
       "      <td>15776.095506</td>\n",
       "      <td>6.784615</td>\n",
       "      <td>1163.621302</td>\n",
       "      <td>86.495618</td>\n",
       "    </tr>\n",
       "    <tr>\n",
       "      <th>Ideas</th>\n",
       "      <td>62.370765</td>\n",
       "      <td>24008.338798</td>\n",
       "      <td>4.253623</td>\n",
       "      <td>1069.846995</td>\n",
       "      <td>74.487268</td>\n",
       "    </tr>\n",
       "    <tr>\n",
       "      <th>Jurassic World</th>\n",
       "      <td>37.478802</td>\n",
       "      <td>76678.718563</td>\n",
       "      <td>3.000000</td>\n",
       "      <td>363.497006</td>\n",
       "      <td>49.756467</td>\n",
       "    </tr>\n",
       "    <tr>\n",
       "      <th>Marvel Super Heroes</th>\n",
       "      <td>33.536003</td>\n",
       "      <td>71750.054575</td>\n",
       "      <td>3.730693</td>\n",
       "      <td>386.237560</td>\n",
       "      <td>38.368010</td>\n",
       "    </tr>\n",
       "    <tr>\n",
       "      <th>Minecraft</th>\n",
       "      <td>27.708768</td>\n",
       "      <td>21295.405797</td>\n",
       "      <td>2.594697</td>\n",
       "      <td>337.775362</td>\n",
       "      <td>31.953768</td>\n",
       "    </tr>\n",
       "    <tr>\n",
       "      <th>Ninjago</th>\n",
       "      <td>31.149397</td>\n",
       "      <td>70394.539007</td>\n",
       "      <td>3.819149</td>\n",
       "      <td>404.751773</td>\n",
       "      <td>35.360567</td>\n",
       "    </tr>\n",
       "    <tr>\n",
       "      <th>Seasonal</th>\n",
       "      <td>25.934590</td>\n",
       "      <td>41534.992537</td>\n",
       "      <td>2.727273</td>\n",
       "      <td>274.764925</td>\n",
       "      <td>15.980858</td>\n",
       "    </tr>\n",
       "    <tr>\n",
       "      <th>Speed Champions</th>\n",
       "      <td>29.887530</td>\n",
       "      <td>74004.002976</td>\n",
       "      <td>1.320755</td>\n",
       "      <td>295.029762</td>\n",
       "      <td>20.516786</td>\n",
       "    </tr>\n",
       "    <tr>\n",
       "      <th>Star Wars</th>\n",
       "      <td>38.585463</td>\n",
       "      <td>72701.751381</td>\n",
       "      <td>4.240563</td>\n",
       "      <td>464.978514</td>\n",
       "      <td>47.535427</td>\n",
       "    </tr>\n",
       "    <tr>\n",
       "      <th>Super Mario</th>\n",
       "      <td>20.946165</td>\n",
       "      <td>71389.047285</td>\n",
       "      <td>1.961538</td>\n",
       "      <td>337.000000</td>\n",
       "      <td>18.520648</td>\n",
       "    </tr>\n",
       "    <tr>\n",
       "      <th>Technic</th>\n",
       "      <td>37.002988</td>\n",
       "      <td>41625.792899</td>\n",
       "      <td>NaN</td>\n",
       "      <td>781.094675</td>\n",
       "      <td>67.593550</td>\n",
       "    </tr>\n",
       "  </tbody>\n",
       "</table>\n",
       "</div>"
      ],
      "text/plain": [
       "                         sold_price        Number  Minifigs       Pieces  \\\n",
       "Theme                                                                      \n",
       "Architecture              65.323974  21039.788079       NaN   771.536424   \n",
       "BrickHeadz                27.166399  42878.657738       NaN   217.687500   \n",
       "City                      31.172866  59160.940299  3.523957   314.280597   \n",
       "Collectable Minifigures   17.519536  69313.691834  1.445295    10.261787   \n",
       "Creator                   29.945671  32576.338415  2.401408   385.966463   \n",
       "Creator Expert            86.074902  12918.000000  4.041667  1302.549020   \n",
       "DC Comics Super Heroes    33.548156  72448.871508  3.006329   410.011173   \n",
       "Disney                    33.734211  44168.236842  2.546448   360.005263   \n",
       "Duplo                     28.719675  10774.779221  2.200000    43.376623   \n",
       "Friends                   29.599888  39668.320896  2.697674   419.126866   \n",
       "Harry Potter              36.904370  75340.601852  4.977186   544.951852   \n",
       "Icons                     56.928989  15776.095506  6.784615  1163.621302   \n",
       "Ideas                     62.370765  24008.338798  4.253623  1069.846995   \n",
       "Jurassic World            37.478802  76678.718563  3.000000   363.497006   \n",
       "Marvel Super Heroes       33.536003  71750.054575  3.730693   386.237560   \n",
       "Minecraft                 27.708768  21295.405797  2.594697   337.775362   \n",
       "Ninjago                   31.149397  70394.539007  3.819149   404.751773   \n",
       "Seasonal                  25.934590  41534.992537  2.727273   274.764925   \n",
       "Speed Champions           29.887530  74004.002976  1.320755   295.029762   \n",
       "Star Wars                 38.585463  72701.751381  4.240563   464.978514   \n",
       "Super Mario               20.946165  71389.047285  1.961538   337.000000   \n",
       "Technic                   37.002988  41625.792899       NaN   781.094675   \n",
       "\n",
       "                         RRP (GBP)  \n",
       "Theme                               \n",
       "Architecture             52.208543  \n",
       "BrickHeadz               14.878393  \n",
       "City                     37.085522  \n",
       "Collectable Minifigures   3.251953  \n",
       "Creator                  29.058598  \n",
       "Creator Expert           93.421373  \n",
       "DC Comics Super Heroes   38.948101  \n",
       "Disney                   38.811053  \n",
       "Duplo                    30.931558  \n",
       "Friends                  37.641119  \n",
       "Harry Potter             49.079815  \n",
       "Icons                    86.495618  \n",
       "Ideas                    74.487268  \n",
       "Jurassic World           49.756467  \n",
       "Marvel Super Heroes      38.368010  \n",
       "Minecraft                31.953768  \n",
       "Ninjago                  35.360567  \n",
       "Seasonal                 15.980858  \n",
       "Speed Champions          20.516786  \n",
       "Star Wars                47.535427  \n",
       "Super Mario              18.520648  \n",
       "Technic                  67.593550  "
      ]
     },
     "execution_count": 662,
     "metadata": {},
     "output_type": "execute_result"
    }
   ],
   "source": [
    "df.groupby('Theme').mean()"
   ]
  },
  {
   "cell_type": "markdown",
   "metadata": {},
   "source": [
    "Results look much better.\n",
    "Clearly we can see each themes has its own price range."
   ]
  },
  {
   "cell_type": "markdown",
   "metadata": {},
   "source": [
    "## Total solds set size wise"
   ]
  },
  {
   "cell_type": "markdown",
   "metadata": {},
   "source": [
    "### Cartogrise set size\n",
    "* Small < 500 pcs\n",
    "* Medium = 500-1000 pcs\n",
    "* Large > 1000 pcs\n"
   ]
  },
  {
   "cell_type": "code",
   "execution_count": 663,
   "metadata": {},
   "outputs": [
    {
     "data": {
      "text/plain": [
       "7541.0"
      ]
     },
     "execution_count": 663,
     "metadata": {},
     "output_type": "execute_result"
    }
   ],
   "source": [
    "df['Pieces'].max()"
   ]
  },
  {
   "cell_type": "code",
   "execution_count": 664,
   "metadata": {},
   "outputs": [],
   "source": [
    "df['Pieces'] = df['Pieces'].fillna(0).astype('int64')\n",
    "df.loc[df['Pieces'] <= 500, 'Size'] = 'Small Set'\n",
    "df.loc[(df['Pieces'] > 500) & (df['Pieces'] <= 1000) ,'Size'] = 'Medium Set'\n",
    "df.loc[df['Pieces'] > 1000, 'Size'] = 'Large Set'"
   ]
  },
  {
   "cell_type": "code",
   "execution_count": 670,
   "metadata": {},
   "outputs": [
    {
     "data": {
      "image/png": "[encoded data removed]",
      "text/plain": [
       "<Figure size 432x288 with 1 Axes>"
      ]
     },
     "metadata": {},
     "output_type": "display_data"
    }
   ],
   "source": [
    "# fig, ax = plt.subplots(figsize=(14,6))\n",
    "colors = sns.color_palette('pastel')\n",
    "# ax = df['Size'].value_counts().plot.pie(autopct='%.1f%%', colors=colors, textprops={'fontsize': 14})\n",
    "ax = df.groupby(['Theme','Size']).size().unstack().plot(kind='bar', stacked=True)\n",
    "plt.title('Total sales by set theme and size', size = 24)\n",
    "# plt.ylabel('')\n",
    "plt.show()"
   ]
  },
  {
   "cell_type": "markdown",
   "metadata": {},
   "source": [
    "Most of the sets sold on Ebay are small sets. This might be due to small sets are cheaper compared to medium and large sets. So, in order to conduct further analysis, it might be useful to normalise the price."
   ]
  },
  {
   "cell_type": "markdown",
   "metadata": {},
   "source": [
    "## The median difference betwene the sale price and the retail price"
   ]
  },
  {
   "cell_type": "code",
   "execution_count": null,
   "metadata": {},
   "outputs": [],
   "source": [
    "df['profit'] = df['sold_price'] - df['RRP (GBP)']\n",
    "df.head()"
   ]
  },
  {
   "cell_type": "code",
   "execution_count": null,
   "metadata": {},
   "outputs": [],
   "source": [
    "df.groupby('Size')['profit'].median()"
   ]
  },
  {
   "cell_type": "code",
   "execution_count": null,
   "metadata": {},
   "outputs": [],
   "source": []
  },
  {
   "cell_type": "markdown",
   "metadata": {},
   "source": [
    "Top 20 sets sold on Ebay by frequency"
   ]
  },
  {
   "cell_type": "code",
   "execution_count": null,
   "metadata": {},
   "outputs": [],
   "source": [
    "top_sets = df['Number'].value_counts().to_frame().reset_index().head(20)\n",
    "top_sets.columns = ['Number', 'frequency']\n",
    "top_sets"
   ]
  },
  {
   "cell_type": "code",
   "execution_count": null,
   "metadata": {},
   "outputs": [],
   "source": [
    "fig, ax = plt.subplots(figsize = (12,6))\n",
    "order_list = top_sets.Number.to_list()\n",
    "ax = sns.barplot(x = 'Number', y = 'frequency', data = top_sets, order=order_list)\n",
    "plt.title('Top 10 sets by number of sold on Ebay', size = 15)\n",
    "plt.xlabel('Set Numbers')\n",
    "plt.ylabel('Number of sold')\n",
    "plt.show()"
   ]
  },
  {
   "cell_type": "markdown",
   "metadata": {},
   "source": [
    "Take a deeper look at the top 5 sets specifically."
   ]
  },
  {
   "cell_type": "code",
   "execution_count": null,
   "metadata": {},
   "outputs": [],
   "source": [
    "# top_sets2 = df_ebay_cleaned[df_ebay_cleaned['numbers'].isin(top_sets['set_numbers'])]\n",
    "# cols = {'sold_price':'mean', 'sold_price':'std'}\n",
    "# df_deep = df_ebay_cleaned[df_ebay_cleaned['numbers'].isin(top_sets['set_numbers'])].groupby('numbers', as_index=True).agg({'sold_price': ['mean','std', 'count']})\n",
    "df_deep = df[df['Number'].isin(top_sets['Number'].head(5))]\n",
    "df_deep['sold_price'] = df_deep['sold_price'].astype(float)\n",
    "df_deep\n"
   ]
  },
  {
   "cell_type": "markdown",
   "metadata": {},
   "source": [
    "Check Theme\n"
   ]
  },
  {
   "cell_type": "code",
   "execution_count": null,
   "metadata": {},
   "outputs": [],
   "source": [
    "fig, ax = plt.subplots(figsize = (14,6))\n",
    "sns.set_style(\"white\")\n",
    "ax = sns.boxplot(data=df_deep, x='Number', y='sold_price', order=order_list[:5])\n",
    "plt.ylabel('Sold Price')\n",
    "ax2 = ax.twinx()\n",
    "ax2 = sns.pointplot(data=df_deep, x='Number', y='RRP (GBP)', order=order_list[:5])\n",
    "plt.ylabel('Retail Price')\n",
    "plt.xlabel('Set Number')\n"
   ]
  },
  {
   "cell_type": "markdown",
   "metadata": {},
   "source": [
    "As we can see, the prices for each set have some outliers. So a cleaning up needed to be done. \n",
    "\n",
    "Applying the interquartile filter to remove outliers:"
   ]
  },
  {
   "cell_type": "code",
   "execution_count": null,
   "metadata": {},
   "outputs": [],
   "source": [
    "# IQR : Inter Quarltile Range\n",
    "Q1 = df_deep['sold_price'].quantile(0.25)\n",
    "Q3 = df_deep['sold_price'].quantile(0.75)\n",
    "IQR = Q3 - Q1\n",
    "\n",
    "df_deep = df_deep[~((df_deep['sold_price'] < (Q1 - 1.5 * IQR)) |(df_deep['sold_price'] > (Q3 + 1.5 * IQR)))]\n",
    "fig, ax = plt.subplots(figsize = (14,6))\n",
    "sns.set_style(\"white\")\n",
    "ax = sns.boxplot(data=df_deep, x='Number', y='sold_price', order=order_list[:5])\n",
    "plt.xlabel('Set Number')\n",
    "plt.ylabel('Sold Price')\n",
    "ax2 = ax.twinx()\n",
    "ax2 = sns.pointplot(data=df_deep, x='Number', y='RRP (GBP)', order=order_list[:5])\n",
    "plt.ylabel('Retail Price')"
   ]
  },
  {
   "cell_type": "markdown",
   "metadata": {},
   "source": [
    "The resulting is much cleaner. However, we noticed set 71033, 71034, 71410 has very broad price range while its data is very skewed"
   ]
  },
  {
   "cell_type": "markdown",
   "metadata": {},
   "source": [
    "* sns.histplot for price per top sale sets\n",
    "* Todo: sold_price vs minifigures, years: sns.barplot (stripplot) t\n",
    "* Todo: correlation between all metrics\n",
    "* Todo: average price per piece for different theme\n",
    "* Todo: plot price vs theme using seaborn.regplot\n",
    "* Todo: looking at correlation: df.corr(method = 'pearson'): sold_price, theme, pieces, minifigures, years, size. Plot sns.heatmap"
   ]
  },
  {
   "cell_type": "markdown",
   "metadata": {},
   "source": [
    "# By Theme\n",
    "# By Size\n",
    "# By Years\n",
    "# Search resale house price, resale sneakers\n",
    "https://www.youtube.com/watch?v=V6V2qzJ4JFs\n",
    "https://sameen73.github.io/stock_x_analysis.html"
   ]
  }
 ],
 "metadata": {
  "kernelspec": {
   "display_name": "Python 3.9.12 ('base')",
   "language": "python",
   "name": "python3"
  },
  "language_info": {
   "codemirror_mode": {
    "name": "ipython",
    "version": 3
   },
   "file_extension": ".py",
   "mimetype": "text/x-python",
   "name": "python",
   "nbconvert_exporter": "python",
   "pygments_lexer": "ipython3",
   "version": "3.9.12"
  },
  "orig_nbformat": 4,
  "vscode": {
   "interpreter": {
    "hash": "666293bfe8538e1eac8d8128c15a5a889f50ac4a959923ef4a4d41560ee4f3ec"
   }
  }
 },
 "nbformat": 4,
 "nbformat_minor": 2
}
